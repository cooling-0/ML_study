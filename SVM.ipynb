{
 "cells": [
  {
   "cell_type": "markdown",
   "metadata": {},
   "source": [
    "# SVM  (Classification)\n",
    " - 데이터의 분포의 가정이 힘들어 다른 모델들을 이용하기 힘들 때 사용.\n",
    " - 분류문제 회귀 문제 두가지 모두 사용 할 수 있지만 보통 SVM은 분류를 나타내고, SVR이 회귀를 나타낸다.\n",
    " - SVM의 아이디어는 아래 그림처럼 분할 초평면을 찾아 분류하는 모델이다.\n",
    " - 이때 분할 초평면은 $ W^T x + b = 0 $과 같은 선형 방정식으로 묘사 될 수 있다.\n",
    " - $W = w_1,w_2,...$이고 법선벡터를 뜻 한다.\n",
    " - $b$는 변위 항으로 초평면과 원점간의 거리를 결정한다고 한다.\n",
    " - 임의점 $x$와 초평면의 거리는 $r = \\frac{\\lvert W^T x + b\\lvert} { \\lvert w \\lvert} $ 이다.\n",
    " - 이때 $f(x) = W^Tx + b$ 이 SVM의 기본모델이다."
   ]
  },
  {
   "cell_type": "markdown",
   "metadata": {},
   "source": [
    "<img src=\"https://encrypted-tbn0.gstatic.com/images?q=tbn:ANd9GcSUQDrZzrMyIZ7tGTpWM5ZF7sDQeYe3qhclwg&usqp=CAU\" width=\"50%\">"
   ]
  },
  {
   "cell_type": "markdown",
   "metadata": {},
   "source": [
    "## 초평면을 찾는 방법\n",
    " - 분류 문제에서 가장 좋은 초평면을 찾는 방법은 Margin이 최대가 되게 하는 초평면을 찾으면 된다.\n",
    " - Margin이란, 아래의 그림처럼 초평면에서 가장 가까운 점까지의 거리라고 생각하면 된다.\n",
    " - 즉, $ \\frac{2}{\\lvert W \\lvert} $ 가 max가 되게 하는 w를 찾으면 된다.\n",
    " - 이 뜻은 $ \\lvert w \\lvert^2 $이 최소가 되는 것과 같다.\n"
   ]
  },
  {
   "cell_type": "markdown",
   "metadata": {},
   "source": [
    "<img src=\"https://blog.kakaocdn.net/dn/TOazX/btqEdksCokr/buBdlgHAs9EHEDYxKcKz4k/img.png\" width=\"30%\">"
   ]
  },
  {
   "cell_type": "markdown",
   "metadata": {},
   "source": [
    " - 이때 사용하는 계산을 위해 라그랑주 승수법을 사용한다.\n",
    " - $ L(W,b,\\lambda) = \\frac{1}{2}\\lvert W \\lvert^2 + \\sum_{i=1}^m {\\lambda_i(1 - y_i(W^Tx_i + b))}$\n",
    " - $y_i$는 위의 그림에서 파란색이면 1 초록색이면 -1이다\n",
    " - 이렇게 두면 라그랑주 승수법에 의해 $W, b$의 편미분값에 대한 $ L(W,b,\\lambda) $ 을 0으로 두면 아래와 같은 식이 나온다.\n",
    " - $W = \\sum_{i=1}^m{\\lambda_iy_ix_i}$, $0 = \\sum_{i=1}^m{\\lambda_iy_i}$\n",
    " - 이 두식을 다시 $L(W,b,\\lambda)$ 에 대입을 하면 \n",
    "$$ \\sum_{i=1}^m \\lambda_i - \\frac{1}{2}\\sum_{i=1}^m\\sum_{j=1}^m\\lambda_i\\lambda_jy_iy_jx_ix_j$$\n",
    "$$ s.t. \\sum_{i=1}^m \\lambda_iy_i = 0 , \\lambda_i >= 0$$\n",
    " - 와 같은 식을 얻게 되고 이것을 SMO 알고리즘에 넣고 위의 식을 최소화 하는 $\\lambda와 W$를 구한다\n",
    " \n",
    " \n",
    " - 위의 과정들은  KKT 조건을 만족한다고 가정을 한다.\n",
    "$$ \\lambda_i >= 0$$\n",
    "$$ y_if(x_i) -1 >=0 $$\n",
    "$$ \\lambda_i(y_if(x_i) -1) = 0 $$\n",
    " - 두번째 조건은 $x_i$들이 margin밖이나 위에 있다는 가정이고\n",
    " - 세번째 조건은 lambda는 margin위에 위치할때만 0이 아닌 값을 가질수 있다는 뜻이다.(이것을 서포트 벡터라고 부름)\n",
    " \n",
    " - b를 구하는 방법은 \n",
    "   - 모든 서포트 벡터($x_s,y_s$)에 대하여 $y_sf(x_s) = 0$이 존재 한다고 한다.\n",
    "   - 따라서 $ y_s(\\sum_{i\\in S}\\lambda_iy_ix_i^Tx_s + b) = 1$이 성립한다.\n",
    "   - 위의 식으로 b를 구할수 있다."
   ]
  },
  {
   "cell_type": "markdown",
   "metadata": {},
   "source": [
    "## Soft Margin (Error 허용)\n",
    "  - 위의 내용은 train sample이 선형 분리가 완벽히 가능 하다는 가정하에 한 것이다\n",
    "  - 하지만 현실에서는 그것이 거의 불가능 하다.\n",
    "  - 이러한 문제를 완화해 주기 위해 약간의 오류를 허용해 soft margin을 잡아야 된다.\n",
    "  \n",
    "<img src='https://encrypted-tbn0.gstatic.com/images?q=tbn:ANd9GcRwSTgJYAlbxcZLi8e-LJYjruBaSN_F0AcW3w&usqp=CAU' width = '50%'>"
   ]
  },
  {
   "cell_type": "markdown",
   "metadata": {},
   "source": [
    "### soft Margin 초평면 찾는 방법\n",
    " - 위의 에러를 허용하지 않는 초평면을 찾는 방법과 크게 다르지 않다.\n",
    " - $ L(W,b,\\lambda)$의 식을 다음과 같이 바꾸어 찾으면 된다.\n",
    " $$  L(W,b,\\lambda,\\xi,\\mu) = \\frac{1}{2}\\lvert W \\lvert^2 + C\\sum_{i=1}^m \\xi_i + \\sum_{i=1}^m {\\lambda_i(1 - \\xi_i- y_i(W^Tx_i + b))}$$\n",
    " - 이때 $\\lambda_i,\\mu_i > 0 $이고, 라그랑주 승수이다.\n",
    " - C가 커질수록 에러를 많이 허용하지 않는 것을 의미\n",
    " - 위의 식의 $W, b, \\xi$에 대해 편도함수를 0으로 두고 풀면 된다.\n",
    " - 다음의 과정은 위의 에러를 허용하지 않은 것과 동일 하다."
   ]
  },
  {
   "cell_type": "markdown",
   "metadata": {},
   "source": [
    "## SVM 장점\n",
    " - 오류 데이터에 대한 영향이 거의 없다.(허용하기 때문)\n",
    " - 신경망 모델에 비해 overfitting의 잘 되지 않는다\n",
    " - 신경망보다 쓰기 편하다.\n",
    "\n",
    "## SVM 단점\n",
    " - 여러번의 테스트가 필요 (최적의 margin을 찾기위해)\n",
    " - 학습속도가 느림\n",
    " - 해석이 어렵고 복잡하다."
   ]
  },
  {
   "cell_type": "markdown",
   "metadata": {},
   "source": [
    "# SVM params\n",
    "   - C (정규화 매개변수) : 정규화의 강도는 C의 반비례한다. (default = '1.0')\n",
    "   - kneral : { 'linear', 'poly', 'rbf', 'sigmoid', 'precomputed'}, (default = 'rbf'(kneral SVM에 설명함))\n",
    "   - degree : kneral - poly 일때 차수 (default = 3)  \n",
    "   - gamma : { 'scale', 'auto'} or float, (default = 'scale') 'rbf', 'poly'및 'sigmoid'에 대한 커널 계수.\n",
    "   - coef0 : float, (default = 0.0) poly와 'sigmoid'에서만 의미가 있습니다.\n",
    "   - shrinking : 축소 휴리스틱을 사용 할 지 여부 bool (default = True)\n",
    "   - tol : 스탑 옵션 (default = 1e-3)\n",
    "   - max_iter \n",
    "   - class_weight : (클래스 i의 매개 변수 C를 SVC의 경우 class_weight [i] * C로 설정합니다) dict or balance (default = None)"
   ]
  },
  {
   "cell_type": "markdown",
   "metadata": {},
   "source": [
    "# 실습 \n",
    "## data \n",
    "  - 다이아 이상 롤 데이터 (10분 이내)"
   ]
  },
  {
   "cell_type": "code",
   "execution_count": 5,
   "metadata": {},
   "outputs": [],
   "source": [
    "import pandas as pd\n",
    "from sklearn.svm import SVC\n",
    "from sklearn.preprocessing import StandardScaler"
   ]
  },
  {
   "cell_type": "code",
   "execution_count": 2,
   "metadata": {},
   "outputs": [],
   "source": [
    "df = pd.read_csv('high_diamond_ranked_10min.csv')"
   ]
  },
  {
   "cell_type": "code",
   "execution_count": 3,
   "metadata": {},
   "outputs": [
    {
     "data": {
      "text/html": [
       "<div>\n",
       "<style scoped>\n",
       "    .dataframe tbody tr th:only-of-type {\n",
       "        vertical-align: middle;\n",
       "    }\n",
       "\n",
       "    .dataframe tbody tr th {\n",
       "        vertical-align: top;\n",
       "    }\n",
       "\n",
       "    .dataframe thead th {\n",
       "        text-align: right;\n",
       "    }\n",
       "</style>\n",
       "<table border=\"1\" class=\"dataframe\">\n",
       "  <thead>\n",
       "    <tr style=\"text-align: right;\">\n",
       "      <th></th>\n",
       "      <th>gameId</th>\n",
       "      <th>blueWins</th>\n",
       "      <th>blueWardsPlaced</th>\n",
       "      <th>blueWardsDestroyed</th>\n",
       "      <th>blueFirstBlood</th>\n",
       "      <th>blueKills</th>\n",
       "      <th>blueDeaths</th>\n",
       "      <th>blueAssists</th>\n",
       "      <th>blueEliteMonsters</th>\n",
       "      <th>blueDragons</th>\n",
       "      <th>...</th>\n",
       "      <th>redTowersDestroyed</th>\n",
       "      <th>redTotalGold</th>\n",
       "      <th>redAvgLevel</th>\n",
       "      <th>redTotalExperience</th>\n",
       "      <th>redTotalMinionsKilled</th>\n",
       "      <th>redTotalJungleMinionsKilled</th>\n",
       "      <th>redGoldDiff</th>\n",
       "      <th>redExperienceDiff</th>\n",
       "      <th>redCSPerMin</th>\n",
       "      <th>redGoldPerMin</th>\n",
       "    </tr>\n",
       "  </thead>\n",
       "  <tbody>\n",
       "    <tr>\n",
       "      <th>0</th>\n",
       "      <td>4519157822</td>\n",
       "      <td>0</td>\n",
       "      <td>28</td>\n",
       "      <td>2</td>\n",
       "      <td>1</td>\n",
       "      <td>9</td>\n",
       "      <td>6</td>\n",
       "      <td>11</td>\n",
       "      <td>0</td>\n",
       "      <td>0</td>\n",
       "      <td>...</td>\n",
       "      <td>0</td>\n",
       "      <td>16567</td>\n",
       "      <td>6.8</td>\n",
       "      <td>17047</td>\n",
       "      <td>197</td>\n",
       "      <td>55</td>\n",
       "      <td>-643</td>\n",
       "      <td>8</td>\n",
       "      <td>19.7</td>\n",
       "      <td>1656.7</td>\n",
       "    </tr>\n",
       "    <tr>\n",
       "      <th>1</th>\n",
       "      <td>4523371949</td>\n",
       "      <td>0</td>\n",
       "      <td>12</td>\n",
       "      <td>1</td>\n",
       "      <td>0</td>\n",
       "      <td>5</td>\n",
       "      <td>5</td>\n",
       "      <td>5</td>\n",
       "      <td>0</td>\n",
       "      <td>0</td>\n",
       "      <td>...</td>\n",
       "      <td>1</td>\n",
       "      <td>17620</td>\n",
       "      <td>6.8</td>\n",
       "      <td>17438</td>\n",
       "      <td>240</td>\n",
       "      <td>52</td>\n",
       "      <td>2908</td>\n",
       "      <td>1173</td>\n",
       "      <td>24.0</td>\n",
       "      <td>1762.0</td>\n",
       "    </tr>\n",
       "    <tr>\n",
       "      <th>2</th>\n",
       "      <td>4521474530</td>\n",
       "      <td>0</td>\n",
       "      <td>15</td>\n",
       "      <td>0</td>\n",
       "      <td>0</td>\n",
       "      <td>7</td>\n",
       "      <td>11</td>\n",
       "      <td>4</td>\n",
       "      <td>1</td>\n",
       "      <td>1</td>\n",
       "      <td>...</td>\n",
       "      <td>0</td>\n",
       "      <td>17285</td>\n",
       "      <td>6.8</td>\n",
       "      <td>17254</td>\n",
       "      <td>203</td>\n",
       "      <td>28</td>\n",
       "      <td>1172</td>\n",
       "      <td>1033</td>\n",
       "      <td>20.3</td>\n",
       "      <td>1728.5</td>\n",
       "    </tr>\n",
       "    <tr>\n",
       "      <th>3</th>\n",
       "      <td>4524384067</td>\n",
       "      <td>0</td>\n",
       "      <td>43</td>\n",
       "      <td>1</td>\n",
       "      <td>0</td>\n",
       "      <td>4</td>\n",
       "      <td>5</td>\n",
       "      <td>5</td>\n",
       "      <td>1</td>\n",
       "      <td>0</td>\n",
       "      <td>...</td>\n",
       "      <td>0</td>\n",
       "      <td>16478</td>\n",
       "      <td>7.0</td>\n",
       "      <td>17961</td>\n",
       "      <td>235</td>\n",
       "      <td>47</td>\n",
       "      <td>1321</td>\n",
       "      <td>7</td>\n",
       "      <td>23.5</td>\n",
       "      <td>1647.8</td>\n",
       "    </tr>\n",
       "    <tr>\n",
       "      <th>4</th>\n",
       "      <td>4436033771</td>\n",
       "      <td>0</td>\n",
       "      <td>75</td>\n",
       "      <td>4</td>\n",
       "      <td>0</td>\n",
       "      <td>6</td>\n",
       "      <td>6</td>\n",
       "      <td>6</td>\n",
       "      <td>0</td>\n",
       "      <td>0</td>\n",
       "      <td>...</td>\n",
       "      <td>0</td>\n",
       "      <td>17404</td>\n",
       "      <td>7.0</td>\n",
       "      <td>18313</td>\n",
       "      <td>225</td>\n",
       "      <td>67</td>\n",
       "      <td>1004</td>\n",
       "      <td>-230</td>\n",
       "      <td>22.5</td>\n",
       "      <td>1740.4</td>\n",
       "    </tr>\n",
       "    <tr>\n",
       "      <th>...</th>\n",
       "      <td>...</td>\n",
       "      <td>...</td>\n",
       "      <td>...</td>\n",
       "      <td>...</td>\n",
       "      <td>...</td>\n",
       "      <td>...</td>\n",
       "      <td>...</td>\n",
       "      <td>...</td>\n",
       "      <td>...</td>\n",
       "      <td>...</td>\n",
       "      <td>...</td>\n",
       "      <td>...</td>\n",
       "      <td>...</td>\n",
       "      <td>...</td>\n",
       "      <td>...</td>\n",
       "      <td>...</td>\n",
       "      <td>...</td>\n",
       "      <td>...</td>\n",
       "      <td>...</td>\n",
       "      <td>...</td>\n",
       "      <td>...</td>\n",
       "    </tr>\n",
       "    <tr>\n",
       "      <th>9874</th>\n",
       "      <td>4527873286</td>\n",
       "      <td>1</td>\n",
       "      <td>17</td>\n",
       "      <td>2</td>\n",
       "      <td>1</td>\n",
       "      <td>7</td>\n",
       "      <td>4</td>\n",
       "      <td>5</td>\n",
       "      <td>1</td>\n",
       "      <td>1</td>\n",
       "      <td>...</td>\n",
       "      <td>0</td>\n",
       "      <td>15246</td>\n",
       "      <td>6.8</td>\n",
       "      <td>16498</td>\n",
       "      <td>229</td>\n",
       "      <td>34</td>\n",
       "      <td>-2519</td>\n",
       "      <td>-2469</td>\n",
       "      <td>22.9</td>\n",
       "      <td>1524.6</td>\n",
       "    </tr>\n",
       "    <tr>\n",
       "      <th>9875</th>\n",
       "      <td>4527797466</td>\n",
       "      <td>1</td>\n",
       "      <td>54</td>\n",
       "      <td>0</td>\n",
       "      <td>0</td>\n",
       "      <td>6</td>\n",
       "      <td>4</td>\n",
       "      <td>8</td>\n",
       "      <td>1</td>\n",
       "      <td>1</td>\n",
       "      <td>...</td>\n",
       "      <td>0</td>\n",
       "      <td>15456</td>\n",
       "      <td>7.0</td>\n",
       "      <td>18367</td>\n",
       "      <td>206</td>\n",
       "      <td>56</td>\n",
       "      <td>-782</td>\n",
       "      <td>-888</td>\n",
       "      <td>20.6</td>\n",
       "      <td>1545.6</td>\n",
       "    </tr>\n",
       "    <tr>\n",
       "      <th>9876</th>\n",
       "      <td>4527713716</td>\n",
       "      <td>0</td>\n",
       "      <td>23</td>\n",
       "      <td>1</td>\n",
       "      <td>0</td>\n",
       "      <td>6</td>\n",
       "      <td>7</td>\n",
       "      <td>5</td>\n",
       "      <td>0</td>\n",
       "      <td>0</td>\n",
       "      <td>...</td>\n",
       "      <td>0</td>\n",
       "      <td>18319</td>\n",
       "      <td>7.4</td>\n",
       "      <td>19909</td>\n",
       "      <td>261</td>\n",
       "      <td>60</td>\n",
       "      <td>2416</td>\n",
       "      <td>1877</td>\n",
       "      <td>26.1</td>\n",
       "      <td>1831.9</td>\n",
       "    </tr>\n",
       "    <tr>\n",
       "      <th>9877</th>\n",
       "      <td>4527628313</td>\n",
       "      <td>0</td>\n",
       "      <td>14</td>\n",
       "      <td>4</td>\n",
       "      <td>1</td>\n",
       "      <td>2</td>\n",
       "      <td>3</td>\n",
       "      <td>3</td>\n",
       "      <td>1</td>\n",
       "      <td>1</td>\n",
       "      <td>...</td>\n",
       "      <td>0</td>\n",
       "      <td>15298</td>\n",
       "      <td>7.2</td>\n",
       "      <td>18314</td>\n",
       "      <td>247</td>\n",
       "      <td>40</td>\n",
       "      <td>839</td>\n",
       "      <td>1085</td>\n",
       "      <td>24.7</td>\n",
       "      <td>1529.8</td>\n",
       "    </tr>\n",
       "    <tr>\n",
       "      <th>9878</th>\n",
       "      <td>4523772935</td>\n",
       "      <td>1</td>\n",
       "      <td>18</td>\n",
       "      <td>0</td>\n",
       "      <td>1</td>\n",
       "      <td>6</td>\n",
       "      <td>6</td>\n",
       "      <td>5</td>\n",
       "      <td>0</td>\n",
       "      <td>0</td>\n",
       "      <td>...</td>\n",
       "      <td>0</td>\n",
       "      <td>15339</td>\n",
       "      <td>6.8</td>\n",
       "      <td>17379</td>\n",
       "      <td>201</td>\n",
       "      <td>46</td>\n",
       "      <td>-927</td>\n",
       "      <td>58</td>\n",
       "      <td>20.1</td>\n",
       "      <td>1533.9</td>\n",
       "    </tr>\n",
       "  </tbody>\n",
       "</table>\n",
       "<p>9879 rows × 40 columns</p>\n",
       "</div>"
      ],
      "text/plain": [
       "          gameId  blueWins  blueWardsPlaced  blueWardsDestroyed  \\\n",
       "0     4519157822         0               28                   2   \n",
       "1     4523371949         0               12                   1   \n",
       "2     4521474530         0               15                   0   \n",
       "3     4524384067         0               43                   1   \n",
       "4     4436033771         0               75                   4   \n",
       "...          ...       ...              ...                 ...   \n",
       "9874  4527873286         1               17                   2   \n",
       "9875  4527797466         1               54                   0   \n",
       "9876  4527713716         0               23                   1   \n",
       "9877  4527628313         0               14                   4   \n",
       "9878  4523772935         1               18                   0   \n",
       "\n",
       "      blueFirstBlood  blueKills  blueDeaths  blueAssists  blueEliteMonsters  \\\n",
       "0                  1          9           6           11                  0   \n",
       "1                  0          5           5            5                  0   \n",
       "2                  0          7          11            4                  1   \n",
       "3                  0          4           5            5                  1   \n",
       "4                  0          6           6            6                  0   \n",
       "...              ...        ...         ...          ...                ...   \n",
       "9874               1          7           4            5                  1   \n",
       "9875               0          6           4            8                  1   \n",
       "9876               0          6           7            5                  0   \n",
       "9877               1          2           3            3                  1   \n",
       "9878               1          6           6            5                  0   \n",
       "\n",
       "      blueDragons  ...  redTowersDestroyed  redTotalGold  redAvgLevel  \\\n",
       "0               0  ...                   0         16567          6.8   \n",
       "1               0  ...                   1         17620          6.8   \n",
       "2               1  ...                   0         17285          6.8   \n",
       "3               0  ...                   0         16478          7.0   \n",
       "4               0  ...                   0         17404          7.0   \n",
       "...           ...  ...                 ...           ...          ...   \n",
       "9874            1  ...                   0         15246          6.8   \n",
       "9875            1  ...                   0         15456          7.0   \n",
       "9876            0  ...                   0         18319          7.4   \n",
       "9877            1  ...                   0         15298          7.2   \n",
       "9878            0  ...                   0         15339          6.8   \n",
       "\n",
       "      redTotalExperience  redTotalMinionsKilled  redTotalJungleMinionsKilled  \\\n",
       "0                  17047                    197                           55   \n",
       "1                  17438                    240                           52   \n",
       "2                  17254                    203                           28   \n",
       "3                  17961                    235                           47   \n",
       "4                  18313                    225                           67   \n",
       "...                  ...                    ...                          ...   \n",
       "9874               16498                    229                           34   \n",
       "9875               18367                    206                           56   \n",
       "9876               19909                    261                           60   \n",
       "9877               18314                    247                           40   \n",
       "9878               17379                    201                           46   \n",
       "\n",
       "      redGoldDiff  redExperienceDiff  redCSPerMin  redGoldPerMin  \n",
       "0            -643                  8         19.7         1656.7  \n",
       "1            2908               1173         24.0         1762.0  \n",
       "2            1172               1033         20.3         1728.5  \n",
       "3            1321                  7         23.5         1647.8  \n",
       "4            1004               -230         22.5         1740.4  \n",
       "...           ...                ...          ...            ...  \n",
       "9874        -2519              -2469         22.9         1524.6  \n",
       "9875         -782               -888         20.6         1545.6  \n",
       "9876         2416               1877         26.1         1831.9  \n",
       "9877          839               1085         24.7         1529.8  \n",
       "9878         -927                 58         20.1         1533.9  \n",
       "\n",
       "[9879 rows x 40 columns]"
      ]
     },
     "execution_count": 3,
     "metadata": {},
     "output_type": "execute_result"
    }
   ],
   "source": [
    "df"
   ]
  },
  {
   "cell_type": "code",
   "execution_count": 6,
   "metadata": {},
   "outputs": [],
   "source": [
    "X_num = df[['blueWardsPlaced', 'blueWardsDestroyed', \n",
    "       'blueKills', 'blueDeaths', 'blueAssists', 'blueEliteMonsters',\n",
    "       'blueTowersDestroyed', 'blueTotalGold',\n",
    "       'blueAvgLevel', 'blueTotalExperience', 'blueTotalMinionsKilled',\n",
    "       'blueTotalJungleMinionsKilled', 'blueGoldDiff', 'blueExperienceDiff',\n",
    "       'blueCSPerMin', 'blueGoldPerMin', 'redWardsPlaced', 'redWardsDestroyed',\n",
    "       'redAssists', 'redEliteMonsters', 'redTowersDestroyed', 'redAvgLevel', 'redTotalMinionsKilled',\n",
    "       'redTotalJungleMinionsKilled', 'redCSPerMin', 'redGoldPerMin']]\n",
    "\n",
    "X_cat = df[['blueFirstBlood', 'blueDragons', 'blueHeralds', 'redDragons', 'redHeralds']]\n",
    "scaler = StandardScaler()\n",
    "scaler.fit(X_num)\n",
    "X_scaled = scaler.transform(X_num)\n",
    "X_scaled = pd.DataFrame(X_scaled, index=X_num.index, columns=X_num.columns)\n",
    "\n",
    "X = pd.concat([X_scaled, X_cat], axis=1)\n",
    "y = df['blueWins']"
   ]
  },
  {
   "cell_type": "code",
   "execution_count": 9,
   "metadata": {},
   "outputs": [],
   "source": [
    "from sklearn.model_selection import train_test_split"
   ]
  },
  {
   "cell_type": "code",
   "execution_count": 10,
   "metadata": {},
   "outputs": [],
   "source": [
    "train_x, test_x, train_y, test_y = train_test_split(X,y, test_size = 0.3, random_state = 1)"
   ]
  },
  {
   "cell_type": "code",
   "execution_count": 16,
   "metadata": {},
   "outputs": [],
   "source": [
    "model_svc = SVC(C = 2.0)"
   ]
  },
  {
   "cell_type": "code",
   "execution_count": 17,
   "metadata": {},
   "outputs": [
    {
     "data": {
      "text/plain": [
       "SVC(C=2.0)"
      ]
     },
     "execution_count": 17,
     "metadata": {},
     "output_type": "execute_result"
    }
   ],
   "source": [
    "model_svc.fit(train_x, train_y)"
   ]
  },
  {
   "cell_type": "code",
   "execution_count": 14,
   "metadata": {},
   "outputs": [],
   "source": [
    "from sklearn.metrics import classification_report"
   ]
  },
  {
   "cell_type": "code",
   "execution_count": 18,
   "metadata": {},
   "outputs": [],
   "source": [
    "pred = model_svc.predict(test_x)"
   ]
  },
  {
   "cell_type": "code",
   "execution_count": 19,
   "metadata": {},
   "outputs": [
    {
     "name": "stdout",
     "output_type": "stream",
     "text": [
      "              precision    recall  f1-score   support\n",
      "\n",
      "           0       0.73      0.73      0.73      1469\n",
      "           1       0.74      0.73      0.73      1495\n",
      "\n",
      "    accuracy                           0.73      2964\n",
      "   macro avg       0.73      0.73      0.73      2964\n",
      "weighted avg       0.73      0.73      0.73      2964\n",
      "\n"
     ]
    }
   ],
   "source": [
    "print(classification_report(test_y,pred))"
   ]
  },
  {
   "cell_type": "code",
   "execution_count": 20,
   "metadata": {},
   "outputs": [
    {
     "name": "stdout",
     "output_type": "stream",
     "text": [
      "              precision    recall  f1-score   support\n",
      "\n",
      "           0       0.74      0.75      0.74      1469\n",
      "           1       0.75      0.74      0.74      1495\n",
      "\n",
      "    accuracy                           0.74      2964\n",
      "   macro avg       0.74      0.74      0.74      2964\n",
      "weighted avg       0.74      0.74      0.74      2964\n",
      "\n"
     ]
    }
   ],
   "source": [
    "X2 =  X[['blueGoldDiff','blueExperienceDiff','blueDragons','redDragons','redGoldPerMin']]\n",
    "train_x, test_x, train_y, test_y = train_test_split(X2,y, test_size = 0.3, random_state = 1)\n",
    "model_svc.fit(train_x, train_y)\n",
    "pred = model_svc.predict(test_x)\n",
    "print(classification_report(test_y,pred))"
   ]
  },
  {
   "cell_type": "code",
   "execution_count": 23,
   "metadata": {},
   "outputs": [],
   "source": [
    "import matplotlib.pyplot as plt"
   ]
  },
  {
   "cell_type": "code",
   "execution_count": 24,
   "metadata": {},
   "outputs": [
    {
     "data": {
      "image/png": "[encoded data removed]",
      "text/plain": [
       "<Figure size 432x288 with 1 Axes>"
      ]
     },
     "metadata": {
      "needs_background": "light"
     },
     "output_type": "display_data"
    }
   ],
   "source": [
    "train_score = []\n",
    "test_score = []\n",
    "for _ in range(1,10):\n",
    "    model_svc = SVC(C = _)\n",
    "    model_svc.fit(train_x,train_y)\n",
    "    train_score.append(model_svc.score(train_x,train_y))\n",
    "    test_score.append(model_svc.score(test_x,test_y))\n",
    "    \n",
    "plt.plot(train_score)\n",
    "plt.plot(test_score)\n",
    "plt.xlabel('C')\n",
    "plt.ylabel('accuracy')\n",
    "plt.legend(['Train','Test'])\n",
    "plt.show()"
   ]
  },
  {
   "cell_type": "code",
   "execution_count": 26,
   "metadata": {},
   "outputs": [
    {
     "name": "stdout",
     "output_type": "stream",
     "text": [
      "[0.7439271255060729, 0.742914979757085, 0.7422402159244265, 0.7422402159244265, 0.7415654520917678, 0.7419028340080972, 0.7415654520917678, 0.7415654520917678, 0.7412280701754386]\n"
     ]
    }
   ],
   "source": [
    "print(test_score)"
   ]
  },
  {
   "cell_type": "code",
   "execution_count": 27,
   "metadata": {},
   "outputs": [
    {
     "name": "stdout",
     "output_type": "stream",
     "text": [
      "[0.7297180043383948, 0.7298626174981924, 0.7314533622559652, 0.7315979754157629, 0.7315979754157629, 0.7315979754157629, 0.7317425885755604, 0.7313087490961677, 0.7328994938539407]\n"
     ]
    }
   ],
   "source": [
    "print(train_score)"
   ]
  }
 ],
 "metadata": {
  "kernelspec": {
   "display_name": "Python 3",
   "language": "python",
   "name": "python3"
  },
  "language_info": {
   "codemirror_mode": {
    "name": "ipython",
    "version": 3
   },
   "file_extension": ".py",
   "mimetype": "text/x-python",
   "name": "python",
   "nbconvert_exporter": "python",
   "pygments_lexer": "ipython3",
   "version": "3.8.3"
  },
  "toc": {
   "base_numbering": 1,
   "nav_menu": {},
   "number_sections": true,
   "sideBar": true,
   "skip_h1_title": false,
   "title_cell": "Table of Contents",
   "title_sidebar": "Contents",
   "toc_cell": false,
   "toc_position": {},
   "toc_section_display": true,
   "toc_window_display": false
  }
 },
 "nbformat": 4,
 "nbformat_minor": 4
}
