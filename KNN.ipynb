{
 "cells": [
  {
   "cell_type": "markdown",
   "metadata": {},
   "source": [
    "# KNN\n",
    "  - K-Nearest Neighbor의 약자로 자신과 인접한 K개의 데이터로 예측하는 모델\n",
    "---------------------------------------------------------------------------- \n",
    "  - weights : { 'uniform', 'distance'} (기본값 = uniform)\n",
    "      - uniform: 모든 포인트에 동일한 가중치를 주어 계산한다.\n",
    "      - distance : 거리에 역으로 가중치를 주어 계산한다.\n",
    "      ------------------------------------------------\n",
    "  - n_neighbors : 참고할 데이터 수  (기본값 = 5)\n",
    "  --------------------------------------------------\n",
    "  - algorithm : { 'auto', 'ball_tree', 'kd_tree', 'brute'} (기본값 = 'auto')\n",
    "      - auto \n",
    "      - kd_tree : 무차별 대입의 문제점을 보완 ex) A,B가 먼거리에 있는데 B와 C가 가까이 있다면 A와 C는 멀다고 판단. \n",
    "      - ball_tree : kd_tree도 비효율적인 측면이 있으므로 더 높은 차원에서 이 부분을 보완.\n",
    "      - brute : 무차별 대입 즉 계산할 포인트를 무차별로 선정한다. 데이터의 수가 적을 때 효율적\n",
    "  - leaf_size : 위에 algorithm을 트리로 설정하였을때 트리의 잎에 개수 (기본값 = 30)(나중에 트리모델을 할때 자세히 설명)\n",
    "  - metric : 거리 측정법 (기본값 = 'minkowski')\n",
    "  - p : minkowski에 대한 검정력 매개변수 p = 1일때는 manhattan_distance , p=2 일때는 euclidean_distance 로 계산 (기본값 = 2)\n",
    "      - manhattan_distance: ㅣx - yㅣ\n",
    "      - euclidean_distance: 우리가 알고있는 점과 점사이에 거리 계산법\n",
    "      - mahalanobis_distance: 변수 내 분산, 공분산을 모두 반영하여 거리 계산 루트((X-Y)^T(공분산)(X-Y))\n",
    "      - correlation_distance: 1- c(상관계수) 즉 0~2 사이에 값이 나옴 , 데이터 간 person correlation을 거리측도로 사용하여 데이터 패턴의 유사도를 반영(전반적인 패턴이 중요한 데이터에서 주로 사용)\n",
    "      - spearman_rank_correlation_distance : 순위형 데이터에서 사용\n"
   ]
  },
  {
   "cell_type": "markdown",
   "metadata": {
    "heading_collapsed": true
   },
   "source": [
    "## Data\n",
    "  - train_data : 핸드폰 사용자에 error_type\n",
    "  - target : 불만 접수 유무"
   ]
  },
  {
   "cell_type": "code",
   "execution_count": 1,
   "metadata": {
    "hidden": true
   },
   "outputs": [],
   "source": [
    "import pandas as pd\n",
    "import matplotlib.pyplot as plt\n",
    "import numpy as np"
   ]
  },
  {
   "cell_type": "code",
   "execution_count": 2,
   "metadata": {
    "hidden": true
   },
   "outputs": [],
   "source": [
    "err_data_target = pd.read_csv('./err_model_nm_target.csv')"
   ]
  },
  {
   "cell_type": "code",
   "execution_count": 3,
   "metadata": {
    "hidden": true,
    "scrolled": true
   },
   "outputs": [
    {
     "name": "stdout",
     "output_type": "stream",
     "text": [
      "<class 'pandas.core.frame.DataFrame'>\n",
      "RangeIndex: 7255 entries, 0 to 7254\n",
      "Data columns (total 44 columns):\n",
      " #   Column      Non-Null Count  Dtype  \n",
      "---  ------      --------------  -----  \n",
      " 0   user_id     7255 non-null   int64  \n",
      " 1   model_nm    7255 non-null   object \n",
      " 2   errtype_1   7255 non-null   float64\n",
      " 3   errtype_2   7255 non-null   float64\n",
      " 4   errtype_3   7255 non-null   float64\n",
      " 5   errtype_4   7255 non-null   float64\n",
      " 6   errtype_5   7255 non-null   float64\n",
      " 7   errtype_6   7255 non-null   float64\n",
      " 8   errtype_7   7255 non-null   float64\n",
      " 9   errtype_8   7255 non-null   float64\n",
      " 10  errtype_9   7255 non-null   float64\n",
      " 11  errtype_10  7255 non-null   float64\n",
      " 12  errtype_11  7255 non-null   float64\n",
      " 13  errtype_12  7255 non-null   float64\n",
      " 14  errtype_13  7255 non-null   float64\n",
      " 15  errtype_14  7255 non-null   float64\n",
      " 16  errtype_15  7255 non-null   float64\n",
      " 17  errtype_16  7255 non-null   float64\n",
      " 18  errtype_17  7255 non-null   float64\n",
      " 19  errtype_18  7255 non-null   float64\n",
      " 20  errtype_19  7255 non-null   float64\n",
      " 21  errtype_20  7255 non-null   float64\n",
      " 22  errtype_21  7255 non-null   float64\n",
      " 23  errtype_22  7255 non-null   float64\n",
      " 24  errtype_23  7255 non-null   float64\n",
      " 25  errtype_24  7255 non-null   float64\n",
      " 26  errtype_25  7255 non-null   float64\n",
      " 27  errtype_26  7255 non-null   float64\n",
      " 28  errtype_27  7255 non-null   float64\n",
      " 29  errtype_28  7255 non-null   float64\n",
      " 30  errtype_30  7255 non-null   float64\n",
      " 31  errtype_31  7255 non-null   float64\n",
      " 32  errtype_32  7255 non-null   float64\n",
      " 33  errtype_33  7255 non-null   float64\n",
      " 34  errtype_34  7255 non-null   float64\n",
      " 35  errtype_35  7255 non-null   float64\n",
      " 36  errtype_36  7255 non-null   float64\n",
      " 37  errtype_37  7255 non-null   float64\n",
      " 38  errtype_38  7255 non-null   float64\n",
      " 39  errtype_39  7255 non-null   float64\n",
      " 40  errtype_40  7255 non-null   float64\n",
      " 41  errtype_41  7255 non-null   float64\n",
      " 42  errtype_42  7255 non-null   float64\n",
      " 43  target      7255 non-null   int64  \n",
      "dtypes: float64(41), int64(2), object(1)\n",
      "memory usage: 2.4+ MB\n"
     ]
    }
   ],
   "source": [
    "err_data_target.info()"
   ]
  },
  {
   "cell_type": "code",
   "execution_count": 4,
   "metadata": {
    "hidden": true
   },
   "outputs": [],
   "source": [
    "train_data = err_data_target.drop(['user_id','model_nm','target'],axis =1)\n",
    "target_data = err_data_target['target']"
   ]
  },
  {
   "cell_type": "code",
   "execution_count": 5,
   "metadata": {
    "hidden": true,
    "scrolled": true
   },
   "outputs": [
    {
     "data": {
      "text/html": [
       "<div>\n",
       "<style scoped>\n",
       "    .dataframe tbody tr th:only-of-type {\n",
       "        vertical-align: middle;\n",
       "    }\n",
       "\n",
       "    .dataframe tbody tr th {\n",
       "        vertical-align: top;\n",
       "    }\n",
       "\n",
       "    .dataframe thead th {\n",
       "        text-align: right;\n",
       "    }\n",
       "</style>\n",
       "<table border=\"1\" class=\"dataframe\">\n",
       "  <thead>\n",
       "    <tr style=\"text-align: right;\">\n",
       "      <th></th>\n",
       "      <th>errtype_1</th>\n",
       "      <th>errtype_2</th>\n",
       "      <th>errtype_3</th>\n",
       "      <th>errtype_4</th>\n",
       "      <th>errtype_5</th>\n",
       "      <th>errtype_6</th>\n",
       "      <th>errtype_7</th>\n",
       "      <th>errtype_8</th>\n",
       "      <th>errtype_9</th>\n",
       "      <th>errtype_10</th>\n",
       "      <th>...</th>\n",
       "      <th>errtype_33</th>\n",
       "      <th>errtype_34</th>\n",
       "      <th>errtype_35</th>\n",
       "      <th>errtype_36</th>\n",
       "      <th>errtype_37</th>\n",
       "      <th>errtype_38</th>\n",
       "      <th>errtype_39</th>\n",
       "      <th>errtype_40</th>\n",
       "      <th>errtype_41</th>\n",
       "      <th>errtype_42</th>\n",
       "    </tr>\n",
       "  </thead>\n",
       "  <tbody>\n",
       "    <tr>\n",
       "      <th>0</th>\n",
       "      <td>0.0</td>\n",
       "      <td>0.0</td>\n",
       "      <td>0.0</td>\n",
       "      <td>0.0</td>\n",
       "      <td>53.0</td>\n",
       "      <td>1.0</td>\n",
       "      <td>1.0</td>\n",
       "      <td>0.0</td>\n",
       "      <td>0.0</td>\n",
       "      <td>0.0</td>\n",
       "      <td>...</td>\n",
       "      <td>10.0</td>\n",
       "      <td>18.0</td>\n",
       "      <td>0.0</td>\n",
       "      <td>1.0</td>\n",
       "      <td>1.0</td>\n",
       "      <td>0.0</td>\n",
       "      <td>0.0</td>\n",
       "      <td>113.0</td>\n",
       "      <td>56.0</td>\n",
       "      <td>1.0</td>\n",
       "    </tr>\n",
       "    <tr>\n",
       "      <th>1</th>\n",
       "      <td>0.0</td>\n",
       "      <td>0.0</td>\n",
       "      <td>0.0</td>\n",
       "      <td>0.0</td>\n",
       "      <td>2.0</td>\n",
       "      <td>1.0</td>\n",
       "      <td>1.0</td>\n",
       "      <td>0.0</td>\n",
       "      <td>0.0</td>\n",
       "      <td>0.0</td>\n",
       "      <td>...</td>\n",
       "      <td>8.0</td>\n",
       "      <td>0.0</td>\n",
       "      <td>0.0</td>\n",
       "      <td>1.0</td>\n",
       "      <td>1.0</td>\n",
       "      <td>2.0</td>\n",
       "      <td>0.0</td>\n",
       "      <td>17.0</td>\n",
       "      <td>1.0</td>\n",
       "      <td>0.0</td>\n",
       "    </tr>\n",
       "    <tr>\n",
       "      <th>2</th>\n",
       "      <td>0.0</td>\n",
       "      <td>0.0</td>\n",
       "      <td>0.0</td>\n",
       "      <td>0.0</td>\n",
       "      <td>0.0</td>\n",
       "      <td>0.0</td>\n",
       "      <td>0.0</td>\n",
       "      <td>0.0</td>\n",
       "      <td>0.0</td>\n",
       "      <td>0.0</td>\n",
       "      <td>...</td>\n",
       "      <td>16.0</td>\n",
       "      <td>0.0</td>\n",
       "      <td>0.0</td>\n",
       "      <td>1.0</td>\n",
       "      <td>1.0</td>\n",
       "      <td>0.0</td>\n",
       "      <td>0.0</td>\n",
       "      <td>0.0</td>\n",
       "      <td>0.0</td>\n",
       "      <td>3.0</td>\n",
       "    </tr>\n",
       "    <tr>\n",
       "      <th>3</th>\n",
       "      <td>0.0</td>\n",
       "      <td>0.0</td>\n",
       "      <td>0.0</td>\n",
       "      <td>0.0</td>\n",
       "      <td>0.0</td>\n",
       "      <td>0.0</td>\n",
       "      <td>0.0</td>\n",
       "      <td>0.0</td>\n",
       "      <td>0.0</td>\n",
       "      <td>0.0</td>\n",
       "      <td>...</td>\n",
       "      <td>15.0</td>\n",
       "      <td>0.0</td>\n",
       "      <td>0.0</td>\n",
       "      <td>1.0</td>\n",
       "      <td>1.0</td>\n",
       "      <td>0.0</td>\n",
       "      <td>0.0</td>\n",
       "      <td>0.0</td>\n",
       "      <td>0.0</td>\n",
       "      <td>1.0</td>\n",
       "    </tr>\n",
       "    <tr>\n",
       "      <th>4</th>\n",
       "      <td>0.0</td>\n",
       "      <td>0.0</td>\n",
       "      <td>0.0</td>\n",
       "      <td>0.0</td>\n",
       "      <td>9.0</td>\n",
       "      <td>0.0</td>\n",
       "      <td>0.0</td>\n",
       "      <td>0.0</td>\n",
       "      <td>0.0</td>\n",
       "      <td>0.0</td>\n",
       "      <td>...</td>\n",
       "      <td>16.0</td>\n",
       "      <td>1.0</td>\n",
       "      <td>0.0</td>\n",
       "      <td>0.0</td>\n",
       "      <td>0.0</td>\n",
       "      <td>0.0</td>\n",
       "      <td>0.0</td>\n",
       "      <td>102.0</td>\n",
       "      <td>1.0</td>\n",
       "      <td>0.0</td>\n",
       "    </tr>\n",
       "    <tr>\n",
       "      <th>...</th>\n",
       "      <td>...</td>\n",
       "      <td>...</td>\n",
       "      <td>...</td>\n",
       "      <td>...</td>\n",
       "      <td>...</td>\n",
       "      <td>...</td>\n",
       "      <td>...</td>\n",
       "      <td>...</td>\n",
       "      <td>...</td>\n",
       "      <td>...</td>\n",
       "      <td>...</td>\n",
       "      <td>...</td>\n",
       "      <td>...</td>\n",
       "      <td>...</td>\n",
       "      <td>...</td>\n",
       "      <td>...</td>\n",
       "      <td>...</td>\n",
       "      <td>...</td>\n",
       "      <td>...</td>\n",
       "      <td>...</td>\n",
       "      <td>...</td>\n",
       "    </tr>\n",
       "    <tr>\n",
       "      <th>7250</th>\n",
       "      <td>0.0</td>\n",
       "      <td>0.0</td>\n",
       "      <td>0.0</td>\n",
       "      <td>29.0</td>\n",
       "      <td>4.0</td>\n",
       "      <td>0.0</td>\n",
       "      <td>0.0</td>\n",
       "      <td>0.0</td>\n",
       "      <td>0.0</td>\n",
       "      <td>0.0</td>\n",
       "      <td>...</td>\n",
       "      <td>0.0</td>\n",
       "      <td>0.0</td>\n",
       "      <td>0.0</td>\n",
       "      <td>0.0</td>\n",
       "      <td>0.0</td>\n",
       "      <td>0.0</td>\n",
       "      <td>0.0</td>\n",
       "      <td>0.0</td>\n",
       "      <td>0.0</td>\n",
       "      <td>0.0</td>\n",
       "    </tr>\n",
       "    <tr>\n",
       "      <th>7251</th>\n",
       "      <td>0.0</td>\n",
       "      <td>0.0</td>\n",
       "      <td>4.0</td>\n",
       "      <td>95.0</td>\n",
       "      <td>4.0</td>\n",
       "      <td>4.0</td>\n",
       "      <td>4.0</td>\n",
       "      <td>0.0</td>\n",
       "      <td>0.0</td>\n",
       "      <td>0.0</td>\n",
       "      <td>...</td>\n",
       "      <td>0.0</td>\n",
       "      <td>0.0</td>\n",
       "      <td>0.0</td>\n",
       "      <td>0.0</td>\n",
       "      <td>0.0</td>\n",
       "      <td>0.0</td>\n",
       "      <td>0.0</td>\n",
       "      <td>0.0</td>\n",
       "      <td>0.0</td>\n",
       "      <td>0.0</td>\n",
       "    </tr>\n",
       "    <tr>\n",
       "      <th>7252</th>\n",
       "      <td>0.0</td>\n",
       "      <td>0.0</td>\n",
       "      <td>0.0</td>\n",
       "      <td>0.0</td>\n",
       "      <td>0.0</td>\n",
       "      <td>0.0</td>\n",
       "      <td>0.0</td>\n",
       "      <td>0.0</td>\n",
       "      <td>0.0</td>\n",
       "      <td>0.0</td>\n",
       "      <td>...</td>\n",
       "      <td>0.0</td>\n",
       "      <td>0.0</td>\n",
       "      <td>0.0</td>\n",
       "      <td>0.0</td>\n",
       "      <td>0.0</td>\n",
       "      <td>0.0</td>\n",
       "      <td>0.0</td>\n",
       "      <td>0.0</td>\n",
       "      <td>0.0</td>\n",
       "      <td>0.0</td>\n",
       "    </tr>\n",
       "    <tr>\n",
       "      <th>7253</th>\n",
       "      <td>0.0</td>\n",
       "      <td>0.0</td>\n",
       "      <td>0.0</td>\n",
       "      <td>0.0</td>\n",
       "      <td>0.0</td>\n",
       "      <td>0.0</td>\n",
       "      <td>0.0</td>\n",
       "      <td>0.0</td>\n",
       "      <td>0.0</td>\n",
       "      <td>0.0</td>\n",
       "      <td>...</td>\n",
       "      <td>15.0</td>\n",
       "      <td>12.0</td>\n",
       "      <td>0.0</td>\n",
       "      <td>1.0</td>\n",
       "      <td>1.0</td>\n",
       "      <td>0.0</td>\n",
       "      <td>0.0</td>\n",
       "      <td>6.0</td>\n",
       "      <td>0.0</td>\n",
       "      <td>0.0</td>\n",
       "    </tr>\n",
       "    <tr>\n",
       "      <th>7254</th>\n",
       "      <td>0.0</td>\n",
       "      <td>0.0</td>\n",
       "      <td>4.0</td>\n",
       "      <td>192.0</td>\n",
       "      <td>7.0</td>\n",
       "      <td>5.0</td>\n",
       "      <td>4.0</td>\n",
       "      <td>0.0</td>\n",
       "      <td>0.0</td>\n",
       "      <td>0.0</td>\n",
       "      <td>...</td>\n",
       "      <td>0.0</td>\n",
       "      <td>0.0</td>\n",
       "      <td>0.0</td>\n",
       "      <td>0.0</td>\n",
       "      <td>0.0</td>\n",
       "      <td>0.0</td>\n",
       "      <td>0.0</td>\n",
       "      <td>0.0</td>\n",
       "      <td>0.0</td>\n",
       "      <td>0.0</td>\n",
       "    </tr>\n",
       "  </tbody>\n",
       "</table>\n",
       "<p>7255 rows × 41 columns</p>\n",
       "</div>"
      ],
      "text/plain": [
       "      errtype_1  errtype_2  errtype_3  errtype_4  errtype_5  errtype_6  \\\n",
       "0           0.0        0.0        0.0        0.0       53.0        1.0   \n",
       "1           0.0        0.0        0.0        0.0        2.0        1.0   \n",
       "2           0.0        0.0        0.0        0.0        0.0        0.0   \n",
       "3           0.0        0.0        0.0        0.0        0.0        0.0   \n",
       "4           0.0        0.0        0.0        0.0        9.0        0.0   \n",
       "...         ...        ...        ...        ...        ...        ...   \n",
       "7250        0.0        0.0        0.0       29.0        4.0        0.0   \n",
       "7251        0.0        0.0        4.0       95.0        4.0        4.0   \n",
       "7252        0.0        0.0        0.0        0.0        0.0        0.0   \n",
       "7253        0.0        0.0        0.0        0.0        0.0        0.0   \n",
       "7254        0.0        0.0        4.0      192.0        7.0        5.0   \n",
       "\n",
       "      errtype_7  errtype_8  errtype_9  errtype_10  ...  errtype_33  \\\n",
       "0           1.0        0.0        0.0         0.0  ...        10.0   \n",
       "1           1.0        0.0        0.0         0.0  ...         8.0   \n",
       "2           0.0        0.0        0.0         0.0  ...        16.0   \n",
       "3           0.0        0.0        0.0         0.0  ...        15.0   \n",
       "4           0.0        0.0        0.0         0.0  ...        16.0   \n",
       "...         ...        ...        ...         ...  ...         ...   \n",
       "7250        0.0        0.0        0.0         0.0  ...         0.0   \n",
       "7251        4.0        0.0        0.0         0.0  ...         0.0   \n",
       "7252        0.0        0.0        0.0         0.0  ...         0.0   \n",
       "7253        0.0        0.0        0.0         0.0  ...        15.0   \n",
       "7254        4.0        0.0        0.0         0.0  ...         0.0   \n",
       "\n",
       "      errtype_34  errtype_35  errtype_36  errtype_37  errtype_38  errtype_39  \\\n",
       "0           18.0         0.0         1.0         1.0         0.0         0.0   \n",
       "1            0.0         0.0         1.0         1.0         2.0         0.0   \n",
       "2            0.0         0.0         1.0         1.0         0.0         0.0   \n",
       "3            0.0         0.0         1.0         1.0         0.0         0.0   \n",
       "4            1.0         0.0         0.0         0.0         0.0         0.0   \n",
       "...          ...         ...         ...         ...         ...         ...   \n",
       "7250         0.0         0.0         0.0         0.0         0.0         0.0   \n",
       "7251         0.0         0.0         0.0         0.0         0.0         0.0   \n",
       "7252         0.0         0.0         0.0         0.0         0.0         0.0   \n",
       "7253        12.0         0.0         1.0         1.0         0.0         0.0   \n",
       "7254         0.0         0.0         0.0         0.0         0.0         0.0   \n",
       "\n",
       "      errtype_40  errtype_41  errtype_42  \n",
       "0          113.0        56.0         1.0  \n",
       "1           17.0         1.0         0.0  \n",
       "2            0.0         0.0         3.0  \n",
       "3            0.0         0.0         1.0  \n",
       "4          102.0         1.0         0.0  \n",
       "...          ...         ...         ...  \n",
       "7250         0.0         0.0         0.0  \n",
       "7251         0.0         0.0         0.0  \n",
       "7252         0.0         0.0         0.0  \n",
       "7253         6.0         0.0         0.0  \n",
       "7254         0.0         0.0         0.0  \n",
       "\n",
       "[7255 rows x 41 columns]"
      ]
     },
     "execution_count": 5,
     "metadata": {},
     "output_type": "execute_result"
    }
   ],
   "source": [
    "train_data"
   ]
  },
  {
   "cell_type": "markdown",
   "metadata": {
    "heading_collapsed": true
   },
   "source": [
    "## 기본값에서 weights의 변화"
   ]
  },
  {
   "cell_type": "code",
   "execution_count": 6,
   "metadata": {
    "hidden": true
   },
   "outputs": [],
   "source": [
    "from sklearn.model_selection import train_test_split\n",
    "X , test_x , y, test_y = train_test_split(train_data,target_data, random_state = 10)"
   ]
  },
  {
   "cell_type": "code",
   "execution_count": 7,
   "metadata": {
    "hidden": true
   },
   "outputs": [
    {
     "name": "stdout",
     "output_type": "stream",
     "text": [
      "(5441, 41) (1814, 41)\n"
     ]
    }
   ],
   "source": [
    "print(X.shape, test_x.shape)"
   ]
  },
  {
   "cell_type": "code",
   "execution_count": 8,
   "metadata": {
    "hidden": true
   },
   "outputs": [],
   "source": [
    "from sklearn.neighbors import KNeighborsClassifier\n",
    "kn = KNeighborsClassifier(n_neighbors=5, weights = 'distance')"
   ]
  },
  {
   "cell_type": "code",
   "execution_count": 9,
   "metadata": {
    "hidden": true
   },
   "outputs": [
    {
     "data": {
      "text/plain": [
       "1.0"
      ]
     },
     "execution_count": 9,
     "metadata": {},
     "output_type": "execute_result"
    }
   ],
   "source": [
    "kn.fit(X,y)\n",
    "kn.score(X,y)"
   ]
  },
  {
   "cell_type": "code",
   "execution_count": 10,
   "metadata": {
    "hidden": true
   },
   "outputs": [
    {
     "data": {
      "text/plain": [
       "0.7072767364939361"
      ]
     },
     "execution_count": 10,
     "metadata": {},
     "output_type": "execute_result"
    }
   ],
   "source": [
    "kn.score(test_x,test_y)"
   ]
  },
  {
   "cell_type": "code",
   "execution_count": 11,
   "metadata": {
    "hidden": true
   },
   "outputs": [
    {
     "data": {
      "image/png": "[encoded data removed]",
      "text/plain": [
       "<Figure size 432x288 with 1 Axes>"
      ]
     },
     "metadata": {
      "needs_background": "light"
     },
     "output_type": "display_data"
    }
   ],
   "source": [
    "train_score = []\n",
    "test_score = []\n",
    "for _ in range(1,100):\n",
    "    kn = KNeighborsClassifier(n_neighbors=_,weights ='distance')\n",
    "    kn.fit(X,y)\n",
    "    train_score.append(kn.score(X,y))\n",
    "    test_score.append(kn.score(test_x,test_y))\n",
    "    \n",
    "plt.plot(train_score)\n",
    "plt.plot(test_score)\n",
    "plt.xlabel('n_neighbors')\n",
    "plt.ylabel('accuracy')\n",
    "plt.legend(['Train','Test'])\n",
    "plt.show()"
   ]
  },
  {
   "cell_type": "code",
   "execution_count": 12,
   "metadata": {
    "hidden": true
   },
   "outputs": [
    {
     "data": {
      "image/png": "[encoded data removed]",
      "text/plain": [
       "<Figure size 432x288 with 1 Axes>"
      ]
     },
     "metadata": {
      "needs_background": "light"
     },
     "output_type": "display_data"
    }
   ],
   "source": [
    "plt.plot(test_score)\n",
    "plt.xlabel('n_neighbors')\n",
    "plt.ylabel('accuracy')\n",
    "plt.legend(['Test'])\n",
    "plt.show()"
   ]
  },
  {
   "cell_type": "code",
   "execution_count": 13,
   "metadata": {
    "hidden": true
   },
   "outputs": [
    {
     "data": {
      "text/plain": [
       "0.7403528114663727"
      ]
     },
     "execution_count": 13,
     "metadata": {},
     "output_type": "execute_result"
    }
   ],
   "source": [
    "max(test_score)"
   ]
  },
  {
   "cell_type": "code",
   "execution_count": 94,
   "metadata": {
    "hidden": true
   },
   "outputs": [
    {
     "data": {
      "image/png": "[encoded data removed]",
      "text/plain": [
       "<Figure size 432x288 with 1 Axes>"
      ]
     },
     "metadata": {
      "needs_background": "light"
     },
     "output_type": "display_data"
    }
   ],
   "source": [
    "train_score = []\n",
    "test_score = []\n",
    "for _ in range(1,100):\n",
    "    kn = KNeighborsClassifier(n_neighbors=_)\n",
    "    kn.fit(X,y)\n",
    "    train_score.append(kn.score(X,y))\n",
    "    test_score.append(kn.score(test_x,test_y))\n",
    "    \n",
    "plt.plot(train_score)\n",
    "plt.plot(test_score)\n",
    "plt.xlabel('n_neighbors')\n",
    "plt.ylabel('accuracy')\n",
    "plt.legend(['Train','Test'])\n",
    "plt.show()"
   ]
  },
  {
   "cell_type": "code",
   "execution_count": 97,
   "metadata": {
    "hidden": true
   },
   "outputs": [
    {
     "data": {
      "text/plain": [
       "0.7392502756339581"
      ]
     },
     "execution_count": 97,
     "metadata": {},
     "output_type": "execute_result"
    }
   ],
   "source": [
    "max(test_score)"
   ]
  },
  {
   "cell_type": "code",
   "execution_count": 98,
   "metadata": {
    "hidden": true
   },
   "outputs": [
    {
     "data": {
      "image/png": "[encoded data removed]",
      "text/plain": [
       "<Figure size 432x288 with 1 Axes>"
      ]
     },
     "metadata": {
      "needs_background": "light"
     },
     "output_type": "display_data"
    }
   ],
   "source": [
    "plt.plot(test_score)\n",
    "plt.xlabel('n_neighbors')\n",
    "plt.ylabel('accuracy')\n",
    "plt.legend(['Test'])\n",
    "plt.show()"
   ]
  },
  {
   "cell_type": "markdown",
   "metadata": {
    "heading_collapsed": true
   },
   "source": [
    "## mahalanobis_distance"
   ]
  },
  {
   "cell_type": "code",
   "execution_count": 100,
   "metadata": {
    "hidden": true,
    "scrolled": true
   },
   "outputs": [
    {
     "ename": "ValueError",
     "evalue": "Must provide either V or VI for Mahalanobis distance",
     "output_type": "error",
     "traceback": [
      "\u001b[1;31m---------------------------------------------------------------------------\u001b[0m",
      "\u001b[1;31mValueError\u001b[0m                                Traceback (most recent call last)",
      "\u001b[1;32m<ipython-input-100-c91640a162f7>\u001b[0m in \u001b[0;36m<module>\u001b[1;34m\u001b[0m\n\u001b[0;32m      1\u001b[0m \u001b[0mkn\u001b[0m \u001b[1;33m=\u001b[0m \u001b[0mKNeighborsClassifier\u001b[0m\u001b[1;33m(\u001b[0m\u001b[0mn_neighbors\u001b[0m\u001b[1;33m=\u001b[0m\u001b[1;36m5\u001b[0m\u001b[1;33m,\u001b[0m \u001b[0mweights\u001b[0m \u001b[1;33m=\u001b[0m \u001b[1;34m'distance'\u001b[0m\u001b[1;33m,\u001b[0m\u001b[0mmetric\u001b[0m\u001b[1;33m=\u001b[0m\u001b[1;34m'mahalanobis'\u001b[0m\u001b[1;33m)\u001b[0m\u001b[1;33m\u001b[0m\u001b[1;33m\u001b[0m\u001b[0m\n\u001b[1;32m----> 2\u001b[1;33m \u001b[0mkn\u001b[0m\u001b[1;33m.\u001b[0m\u001b[0mfit\u001b[0m\u001b[1;33m(\u001b[0m\u001b[0mX\u001b[0m\u001b[1;33m,\u001b[0m\u001b[0my\u001b[0m\u001b[1;33m)\u001b[0m\u001b[1;33m\u001b[0m\u001b[1;33m\u001b[0m\u001b[0m\n\u001b[0m\u001b[0;32m      3\u001b[0m \u001b[0mkn\u001b[0m\u001b[1;33m.\u001b[0m\u001b[0mscore\u001b[0m\u001b[1;33m(\u001b[0m\u001b[0mX\u001b[0m\u001b[1;33m,\u001b[0m\u001b[0my\u001b[0m\u001b[1;33m)\u001b[0m\u001b[1;33m\u001b[0m\u001b[1;33m\u001b[0m\u001b[0m\n",
      "\u001b[1;32mC:\\anan\\lib\\site-packages\\sklearn\\neighbors\\_base.py\u001b[0m in \u001b[0;36mfit\u001b[1;34m(self, X, y)\u001b[0m\n\u001b[0;32m   1155\u001b[0m             \u001b[0mself\u001b[0m\u001b[1;33m.\u001b[0m\u001b[0m_y\u001b[0m \u001b[1;33m=\u001b[0m \u001b[0mself\u001b[0m\u001b[1;33m.\u001b[0m\u001b[0m_y\u001b[0m\u001b[1;33m.\u001b[0m\u001b[0mravel\u001b[0m\u001b[1;33m(\u001b[0m\u001b[1;33m)\u001b[0m\u001b[1;33m\u001b[0m\u001b[1;33m\u001b[0m\u001b[0m\n\u001b[0;32m   1156\u001b[0m \u001b[1;33m\u001b[0m\u001b[0m\n\u001b[1;32m-> 1157\u001b[1;33m         \u001b[1;32mreturn\u001b[0m \u001b[0mself\u001b[0m\u001b[1;33m.\u001b[0m\u001b[0m_fit\u001b[0m\u001b[1;33m(\u001b[0m\u001b[0mX\u001b[0m\u001b[1;33m)\u001b[0m\u001b[1;33m\u001b[0m\u001b[1;33m\u001b[0m\u001b[0m\n\u001b[0m\u001b[0;32m   1158\u001b[0m \u001b[1;33m\u001b[0m\u001b[0m\n\u001b[0;32m   1159\u001b[0m     \u001b[1;32mdef\u001b[0m \u001b[0m_more_tags\u001b[0m\u001b[1;33m(\u001b[0m\u001b[0mself\u001b[0m\u001b[1;33m)\u001b[0m\u001b[1;33m:\u001b[0m\u001b[1;33m\u001b[0m\u001b[1;33m\u001b[0m\u001b[0m\n",
      "\u001b[1;32mC:\\anan\\lib\\site-packages\\sklearn\\neighbors\\_base.py\u001b[0m in \u001b[0;36m_fit\u001b[1;34m(self, X)\u001b[0m\n\u001b[0;32m    450\u001b[0m \u001b[1;33m\u001b[0m\u001b[0m\n\u001b[0;32m    451\u001b[0m         \u001b[1;32mif\u001b[0m \u001b[0mself\u001b[0m\u001b[1;33m.\u001b[0m\u001b[0m_fit_method\u001b[0m \u001b[1;33m==\u001b[0m \u001b[1;34m'ball_tree'\u001b[0m\u001b[1;33m:\u001b[0m\u001b[1;33m\u001b[0m\u001b[1;33m\u001b[0m\u001b[0m\n\u001b[1;32m--> 452\u001b[1;33m             self._tree = BallTree(X, self.leaf_size,\n\u001b[0m\u001b[0;32m    453\u001b[0m                                   \u001b[0mmetric\u001b[0m\u001b[1;33m=\u001b[0m\u001b[0mself\u001b[0m\u001b[1;33m.\u001b[0m\u001b[0meffective_metric_\u001b[0m\u001b[1;33m,\u001b[0m\u001b[1;33m\u001b[0m\u001b[1;33m\u001b[0m\u001b[0m\n\u001b[0;32m    454\u001b[0m                                   **self.effective_metric_params_)\n",
      "\u001b[1;32msklearn\\neighbors\\_binary_tree.pxi\u001b[0m in \u001b[0;36msklearn.neighbors._ball_tree.BinaryTree.__init__\u001b[1;34m()\u001b[0m\n",
      "\u001b[1;32msklearn\\neighbors\\_dist_metrics.pyx\u001b[0m in \u001b[0;36msklearn.neighbors._dist_metrics.DistanceMetric.get_metric\u001b[1;34m()\u001b[0m\n",
      "\u001b[1;32msklearn\\neighbors\\_dist_metrics.pyx\u001b[0m in \u001b[0;36msklearn.neighbors._dist_metrics.MahalanobisDistance.__init__\u001b[1;34m()\u001b[0m\n",
      "\u001b[1;31mValueError\u001b[0m: Must provide either V or VI for Mahalanobis distance"
     ]
    }
   ],
   "source": [
    "kn = KNeighborsClassifier(n_neighbors=5, weights = 'distance',metric='mahalanobis')\n",
    "kn.fit(X,y)\n",
    "kn.score(X,y)"
   ]
  },
  {
   "cell_type": "code",
   "execution_count": 101,
   "metadata": {
    "hidden": true
   },
   "outputs": [
    {
     "data": {
      "text/plain": [
       "<sklearn.neighbors._dist_metrics.MahalanobisDistance at 0x2b2f34543c0>"
      ]
     },
     "execution_count": 101,
     "metadata": {},
     "output_type": "execute_result"
    }
   ],
   "source": [
    "from sklearn.datasets import make_classification\n",
    "from sklearn.neighbors import DistanceMetric\n",
    "\n",
    "X, y = make_classification()\n",
    "DistanceMetric.get_metric('mahalanobis', V=np.cov(X))"
   ]
  },
  {
   "cell_type": "code",
   "execution_count": 104,
   "metadata": {
    "hidden": true
   },
   "outputs": [
    {
     "data": {
      "text/plain": [
       "1.0"
      ]
     },
     "execution_count": 104,
     "metadata": {},
     "output_type": "execute_result"
    }
   ],
   "source": [
    "kn = KNeighborsClassifier(n_neighbors=5, weights = 'distance',\n",
    "                          algorithm = 'brute',\n",
    "                          metric='mahalanobis',\n",
    "                          metric_params={'V': np.cov(X)})\n",
    "kn.fit(X,y)\n",
    "kn.score(X,y)"
   ]
  },
  {
   "cell_type": "code",
   "execution_count": 106,
   "metadata": {
    "hidden": true,
    "scrolled": true
   },
   "outputs": [
    {
     "name": "stderr",
     "output_type": "stream",
     "text": [
      "C:\\anan\\lib\\site-packages\\sklearn\\metrics\\pairwise.py:1456: FutureWarning: from version 0.25, pairwise_distances for metric='mahalanobis' will require VI to be specified if Y is passed.\n",
      "  warnings.warn(\"from version 0.25, pairwise_distances for \"\n"
     ]
    },
    {
     "data": {
      "text/plain": [
       "0.5"
      ]
     },
     "execution_count": 106,
     "metadata": {},
     "output_type": "execute_result"
    }
   ],
   "source": [
    "test_x, test_y = make_classification()\n",
    "kn.score(test_x,test_y)"
   ]
  },
  {
   "cell_type": "code",
   "execution_count": 110,
   "metadata": {
    "hidden": true
   },
   "outputs": [
    {
     "name": "stderr",
     "output_type": "stream",
     "text": [
      "C:\\anan\\lib\\site-packages\\sklearn\\metrics\\pairwise.py:1456: FutureWarning: from version 0.25, pairwise_distances for metric='mahalanobis' will require VI to be specified if Y is passed.\n",
      "  warnings.warn(\"from version 0.25, pairwise_distances for \"\n",
      "C:\\anan\\lib\\site-packages\\sklearn\\metrics\\pairwise.py:1456: FutureWarning: from version 0.25, pairwise_distances for metric='mahalanobis' will require VI to be specified if Y is passed.\n",
      "  warnings.warn(\"from version 0.25, pairwise_distances for \"\n",
      "C:\\anan\\lib\\site-packages\\sklearn\\metrics\\pairwise.py:1456: FutureWarning: from version 0.25, pairwise_distances for metric='mahalanobis' will require VI to be specified if Y is passed.\n",
      "  warnings.warn(\"from version 0.25, pairwise_distances for \"\n",
      "C:\\anan\\lib\\site-packages\\sklearn\\metrics\\pairwise.py:1456: FutureWarning: from version 0.25, pairwise_distances for metric='mahalanobis' will require VI to be specified if Y is passed.\n",
      "  warnings.warn(\"from version 0.25, pairwise_distances for \"\n",
      "C:\\anan\\lib\\site-packages\\sklearn\\metrics\\pairwise.py:1456: FutureWarning: from version 0.25, pairwise_distances for metric='mahalanobis' will require VI to be specified if Y is passed.\n",
      "  warnings.warn(\"from version 0.25, pairwise_distances for \"\n",
      "C:\\anan\\lib\\site-packages\\sklearn\\metrics\\pairwise.py:1456: FutureWarning: from version 0.25, pairwise_distances for metric='mahalanobis' will require VI to be specified if Y is passed.\n",
      "  warnings.warn(\"from version 0.25, pairwise_distances for \"\n",
      "C:\\anan\\lib\\site-packages\\sklearn\\metrics\\pairwise.py:1456: FutureWarning: from version 0.25, pairwise_distances for metric='mahalanobis' will require VI to be specified if Y is passed.\n",
      "  warnings.warn(\"from version 0.25, pairwise_distances for \"\n",
      "C:\\anan\\lib\\site-packages\\sklearn\\metrics\\pairwise.py:1456: FutureWarning: from version 0.25, pairwise_distances for metric='mahalanobis' will require VI to be specified if Y is passed.\n",
      "  warnings.warn(\"from version 0.25, pairwise_distances for \"\n",
      "C:\\anan\\lib\\site-packages\\sklearn\\metrics\\pairwise.py:1456: FutureWarning: from version 0.25, pairwise_distances for metric='mahalanobis' will require VI to be specified if Y is passed.\n",
      "  warnings.warn(\"from version 0.25, pairwise_distances for \"\n",
      "C:\\anan\\lib\\site-packages\\sklearn\\metrics\\pairwise.py:1456: FutureWarning: from version 0.25, pairwise_distances for metric='mahalanobis' will require VI to be specified if Y is passed.\n",
      "  warnings.warn(\"from version 0.25, pairwise_distances for \"\n",
      "C:\\anan\\lib\\site-packages\\sklearn\\metrics\\pairwise.py:1456: FutureWarning: from version 0.25, pairwise_distances for metric='mahalanobis' will require VI to be specified if Y is passed.\n",
      "  warnings.warn(\"from version 0.25, pairwise_distances for \"\n",
      "C:\\anan\\lib\\site-packages\\sklearn\\metrics\\pairwise.py:1456: FutureWarning: from version 0.25, pairwise_distances for metric='mahalanobis' will require VI to be specified if Y is passed.\n",
      "  warnings.warn(\"from version 0.25, pairwise_distances for \"\n",
      "C:\\anan\\lib\\site-packages\\sklearn\\metrics\\pairwise.py:1456: FutureWarning: from version 0.25, pairwise_distances for metric='mahalanobis' will require VI to be specified if Y is passed.\n",
      "  warnings.warn(\"from version 0.25, pairwise_distances for \"\n",
      "C:\\anan\\lib\\site-packages\\sklearn\\metrics\\pairwise.py:1456: FutureWarning: from version 0.25, pairwise_distances for metric='mahalanobis' will require VI to be specified if Y is passed.\n",
      "  warnings.warn(\"from version 0.25, pairwise_distances for \"\n",
      "C:\\anan\\lib\\site-packages\\sklearn\\metrics\\pairwise.py:1456: FutureWarning: from version 0.25, pairwise_distances for metric='mahalanobis' will require VI to be specified if Y is passed.\n",
      "  warnings.warn(\"from version 0.25, pairwise_distances for \"\n",
      "C:\\anan\\lib\\site-packages\\sklearn\\metrics\\pairwise.py:1456: FutureWarning: from version 0.25, pairwise_distances for metric='mahalanobis' will require VI to be specified if Y is passed.\n",
      "  warnings.warn(\"from version 0.25, pairwise_distances for \"\n",
      "C:\\anan\\lib\\site-packages\\sklearn\\metrics\\pairwise.py:1456: FutureWarning: from version 0.25, pairwise_distances for metric='mahalanobis' will require VI to be specified if Y is passed.\n",
      "  warnings.warn(\"from version 0.25, pairwise_distances for \"\n",
      "C:\\anan\\lib\\site-packages\\sklearn\\metrics\\pairwise.py:1456: FutureWarning: from version 0.25, pairwise_distances for metric='mahalanobis' will require VI to be specified if Y is passed.\n",
      "  warnings.warn(\"from version 0.25, pairwise_distances for \"\n",
      "C:\\anan\\lib\\site-packages\\sklearn\\metrics\\pairwise.py:1456: FutureWarning: from version 0.25, pairwise_distances for metric='mahalanobis' will require VI to be specified if Y is passed.\n",
      "  warnings.warn(\"from version 0.25, pairwise_distances for \"\n",
      "C:\\anan\\lib\\site-packages\\sklearn\\metrics\\pairwise.py:1456: FutureWarning: from version 0.25, pairwise_distances for metric='mahalanobis' will require VI to be specified if Y is passed.\n",
      "  warnings.warn(\"from version 0.25, pairwise_distances for \"\n",
      "C:\\anan\\lib\\site-packages\\sklearn\\metrics\\pairwise.py:1456: FutureWarning: from version 0.25, pairwise_distances for metric='mahalanobis' will require VI to be specified if Y is passed.\n",
      "  warnings.warn(\"from version 0.25, pairwise_distances for \"\n",
      "C:\\anan\\lib\\site-packages\\sklearn\\metrics\\pairwise.py:1456: FutureWarning: from version 0.25, pairwise_distances for metric='mahalanobis' will require VI to be specified if Y is passed.\n",
      "  warnings.warn(\"from version 0.25, pairwise_distances for \"\n",
      "C:\\anan\\lib\\site-packages\\sklearn\\metrics\\pairwise.py:1456: FutureWarning: from version 0.25, pairwise_distances for metric='mahalanobis' will require VI to be specified if Y is passed.\n",
      "  warnings.warn(\"from version 0.25, pairwise_distances for \"\n",
      "C:\\anan\\lib\\site-packages\\sklearn\\metrics\\pairwise.py:1456: FutureWarning: from version 0.25, pairwise_distances for metric='mahalanobis' will require VI to be specified if Y is passed.\n",
      "  warnings.warn(\"from version 0.25, pairwise_distances for \"\n",
      "C:\\anan\\lib\\site-packages\\sklearn\\metrics\\pairwise.py:1456: FutureWarning: from version 0.25, pairwise_distances for metric='mahalanobis' will require VI to be specified if Y is passed.\n",
      "  warnings.warn(\"from version 0.25, pairwise_distances for \"\n",
      "C:\\anan\\lib\\site-packages\\sklearn\\metrics\\pairwise.py:1456: FutureWarning: from version 0.25, pairwise_distances for metric='mahalanobis' will require VI to be specified if Y is passed.\n",
      "  warnings.warn(\"from version 0.25, pairwise_distances for \"\n",
      "C:\\anan\\lib\\site-packages\\sklearn\\metrics\\pairwise.py:1456: FutureWarning: from version 0.25, pairwise_distances for metric='mahalanobis' will require VI to be specified if Y is passed.\n",
      "  warnings.warn(\"from version 0.25, pairwise_distances for \"\n",
      "C:\\anan\\lib\\site-packages\\sklearn\\metrics\\pairwise.py:1456: FutureWarning: from version 0.25, pairwise_distances for metric='mahalanobis' will require VI to be specified if Y is passed.\n",
      "  warnings.warn(\"from version 0.25, pairwise_distances for \"\n",
      "C:\\anan\\lib\\site-packages\\sklearn\\metrics\\pairwise.py:1456: FutureWarning: from version 0.25, pairwise_distances for metric='mahalanobis' will require VI to be specified if Y is passed.\n",
      "  warnings.warn(\"from version 0.25, pairwise_distances for \"\n",
      "C:\\anan\\lib\\site-packages\\sklearn\\metrics\\pairwise.py:1456: FutureWarning: from version 0.25, pairwise_distances for metric='mahalanobis' will require VI to be specified if Y is passed.\n",
      "  warnings.warn(\"from version 0.25, pairwise_distances for \"\n",
      "C:\\anan\\lib\\site-packages\\sklearn\\metrics\\pairwise.py:1456: FutureWarning: from version 0.25, pairwise_distances for metric='mahalanobis' will require VI to be specified if Y is passed.\n",
      "  warnings.warn(\"from version 0.25, pairwise_distances for \"\n",
      "C:\\anan\\lib\\site-packages\\sklearn\\metrics\\pairwise.py:1456: FutureWarning: from version 0.25, pairwise_distances for metric='mahalanobis' will require VI to be specified if Y is passed.\n",
      "  warnings.warn(\"from version 0.25, pairwise_distances for \"\n",
      "C:\\anan\\lib\\site-packages\\sklearn\\metrics\\pairwise.py:1456: FutureWarning: from version 0.25, pairwise_distances for metric='mahalanobis' will require VI to be specified if Y is passed.\n",
      "  warnings.warn(\"from version 0.25, pairwise_distances for \"\n",
      "C:\\anan\\lib\\site-packages\\sklearn\\metrics\\pairwise.py:1456: FutureWarning: from version 0.25, pairwise_distances for metric='mahalanobis' will require VI to be specified if Y is passed.\n",
      "  warnings.warn(\"from version 0.25, pairwise_distances for \"\n",
      "C:\\anan\\lib\\site-packages\\sklearn\\metrics\\pairwise.py:1456: FutureWarning: from version 0.25, pairwise_distances for metric='mahalanobis' will require VI to be specified if Y is passed.\n",
      "  warnings.warn(\"from version 0.25, pairwise_distances for \"\n",
      "C:\\anan\\lib\\site-packages\\sklearn\\metrics\\pairwise.py:1456: FutureWarning: from version 0.25, pairwise_distances for metric='mahalanobis' will require VI to be specified if Y is passed.\n",
      "  warnings.warn(\"from version 0.25, pairwise_distances for \"\n",
      "C:\\anan\\lib\\site-packages\\sklearn\\metrics\\pairwise.py:1456: FutureWarning: from version 0.25, pairwise_distances for metric='mahalanobis' will require VI to be specified if Y is passed.\n",
      "  warnings.warn(\"from version 0.25, pairwise_distances for \"\n",
      "C:\\anan\\lib\\site-packages\\sklearn\\metrics\\pairwise.py:1456: FutureWarning: from version 0.25, pairwise_distances for metric='mahalanobis' will require VI to be specified if Y is passed.\n",
      "  warnings.warn(\"from version 0.25, pairwise_distances for \"\n",
      "C:\\anan\\lib\\site-packages\\sklearn\\metrics\\pairwise.py:1456: FutureWarning: from version 0.25, pairwise_distances for metric='mahalanobis' will require VI to be specified if Y is passed.\n",
      "  warnings.warn(\"from version 0.25, pairwise_distances for \"\n",
      "C:\\anan\\lib\\site-packages\\sklearn\\metrics\\pairwise.py:1456: FutureWarning: from version 0.25, pairwise_distances for metric='mahalanobis' will require VI to be specified if Y is passed.\n",
      "  warnings.warn(\"from version 0.25, pairwise_distances for \"\n",
      "C:\\anan\\lib\\site-packages\\sklearn\\metrics\\pairwise.py:1456: FutureWarning: from version 0.25, pairwise_distances for metric='mahalanobis' will require VI to be specified if Y is passed.\n",
      "  warnings.warn(\"from version 0.25, pairwise_distances for \"\n",
      "C:\\anan\\lib\\site-packages\\sklearn\\metrics\\pairwise.py:1456: FutureWarning: from version 0.25, pairwise_distances for metric='mahalanobis' will require VI to be specified if Y is passed.\n",
      "  warnings.warn(\"from version 0.25, pairwise_distances for \"\n",
      "C:\\anan\\lib\\site-packages\\sklearn\\metrics\\pairwise.py:1456: FutureWarning: from version 0.25, pairwise_distances for metric='mahalanobis' will require VI to be specified if Y is passed.\n",
      "  warnings.warn(\"from version 0.25, pairwise_distances for \"\n"
     ]
    },
    {
     "name": "stderr",
     "output_type": "stream",
     "text": [
      "C:\\anan\\lib\\site-packages\\sklearn\\metrics\\pairwise.py:1456: FutureWarning: from version 0.25, pairwise_distances for metric='mahalanobis' will require VI to be specified if Y is passed.\n",
      "  warnings.warn(\"from version 0.25, pairwise_distances for \"\n",
      "C:\\anan\\lib\\site-packages\\sklearn\\metrics\\pairwise.py:1456: FutureWarning: from version 0.25, pairwise_distances for metric='mahalanobis' will require VI to be specified if Y is passed.\n",
      "  warnings.warn(\"from version 0.25, pairwise_distances for \"\n",
      "C:\\anan\\lib\\site-packages\\sklearn\\metrics\\pairwise.py:1456: FutureWarning: from version 0.25, pairwise_distances for metric='mahalanobis' will require VI to be specified if Y is passed.\n",
      "  warnings.warn(\"from version 0.25, pairwise_distances for \"\n",
      "C:\\anan\\lib\\site-packages\\sklearn\\metrics\\pairwise.py:1456: FutureWarning: from version 0.25, pairwise_distances for metric='mahalanobis' will require VI to be specified if Y is passed.\n",
      "  warnings.warn(\"from version 0.25, pairwise_distances for \"\n",
      "C:\\anan\\lib\\site-packages\\sklearn\\metrics\\pairwise.py:1456: FutureWarning: from version 0.25, pairwise_distances for metric='mahalanobis' will require VI to be specified if Y is passed.\n",
      "  warnings.warn(\"from version 0.25, pairwise_distances for \"\n",
      "C:\\anan\\lib\\site-packages\\sklearn\\metrics\\pairwise.py:1456: FutureWarning: from version 0.25, pairwise_distances for metric='mahalanobis' will require VI to be specified if Y is passed.\n",
      "  warnings.warn(\"from version 0.25, pairwise_distances for \"\n",
      "C:\\anan\\lib\\site-packages\\sklearn\\metrics\\pairwise.py:1456: FutureWarning: from version 0.25, pairwise_distances for metric='mahalanobis' will require VI to be specified if Y is passed.\n",
      "  warnings.warn(\"from version 0.25, pairwise_distances for \"\n",
      "C:\\anan\\lib\\site-packages\\sklearn\\metrics\\pairwise.py:1456: FutureWarning: from version 0.25, pairwise_distances for metric='mahalanobis' will require VI to be specified if Y is passed.\n",
      "  warnings.warn(\"from version 0.25, pairwise_distances for \"\n",
      "C:\\anan\\lib\\site-packages\\sklearn\\metrics\\pairwise.py:1456: FutureWarning: from version 0.25, pairwise_distances for metric='mahalanobis' will require VI to be specified if Y is passed.\n",
      "  warnings.warn(\"from version 0.25, pairwise_distances for \"\n",
      "C:\\anan\\lib\\site-packages\\sklearn\\metrics\\pairwise.py:1456: FutureWarning: from version 0.25, pairwise_distances for metric='mahalanobis' will require VI to be specified if Y is passed.\n",
      "  warnings.warn(\"from version 0.25, pairwise_distances for \"\n",
      "C:\\anan\\lib\\site-packages\\sklearn\\metrics\\pairwise.py:1456: FutureWarning: from version 0.25, pairwise_distances for metric='mahalanobis' will require VI to be specified if Y is passed.\n",
      "  warnings.warn(\"from version 0.25, pairwise_distances for \"\n",
      "C:\\anan\\lib\\site-packages\\sklearn\\metrics\\pairwise.py:1456: FutureWarning: from version 0.25, pairwise_distances for metric='mahalanobis' will require VI to be specified if Y is passed.\n",
      "  warnings.warn(\"from version 0.25, pairwise_distances for \"\n",
      "C:\\anan\\lib\\site-packages\\sklearn\\metrics\\pairwise.py:1456: FutureWarning: from version 0.25, pairwise_distances for metric='mahalanobis' will require VI to be specified if Y is passed.\n",
      "  warnings.warn(\"from version 0.25, pairwise_distances for \"\n",
      "C:\\anan\\lib\\site-packages\\sklearn\\metrics\\pairwise.py:1456: FutureWarning: from version 0.25, pairwise_distances for metric='mahalanobis' will require VI to be specified if Y is passed.\n",
      "  warnings.warn(\"from version 0.25, pairwise_distances for \"\n",
      "C:\\anan\\lib\\site-packages\\sklearn\\metrics\\pairwise.py:1456: FutureWarning: from version 0.25, pairwise_distances for metric='mahalanobis' will require VI to be specified if Y is passed.\n",
      "  warnings.warn(\"from version 0.25, pairwise_distances for \"\n",
      "C:\\anan\\lib\\site-packages\\sklearn\\metrics\\pairwise.py:1456: FutureWarning: from version 0.25, pairwise_distances for metric='mahalanobis' will require VI to be specified if Y is passed.\n",
      "  warnings.warn(\"from version 0.25, pairwise_distances for \"\n",
      "C:\\anan\\lib\\site-packages\\sklearn\\metrics\\pairwise.py:1456: FutureWarning: from version 0.25, pairwise_distances for metric='mahalanobis' will require VI to be specified if Y is passed.\n",
      "  warnings.warn(\"from version 0.25, pairwise_distances for \"\n",
      "C:\\anan\\lib\\site-packages\\sklearn\\metrics\\pairwise.py:1456: FutureWarning: from version 0.25, pairwise_distances for metric='mahalanobis' will require VI to be specified if Y is passed.\n",
      "  warnings.warn(\"from version 0.25, pairwise_distances for \"\n",
      "C:\\anan\\lib\\site-packages\\sklearn\\metrics\\pairwise.py:1456: FutureWarning: from version 0.25, pairwise_distances for metric='mahalanobis' will require VI to be specified if Y is passed.\n",
      "  warnings.warn(\"from version 0.25, pairwise_distances for \"\n",
      "C:\\anan\\lib\\site-packages\\sklearn\\metrics\\pairwise.py:1456: FutureWarning: from version 0.25, pairwise_distances for metric='mahalanobis' will require VI to be specified if Y is passed.\n",
      "  warnings.warn(\"from version 0.25, pairwise_distances for \"\n",
      "C:\\anan\\lib\\site-packages\\sklearn\\metrics\\pairwise.py:1456: FutureWarning: from version 0.25, pairwise_distances for metric='mahalanobis' will require VI to be specified if Y is passed.\n",
      "  warnings.warn(\"from version 0.25, pairwise_distances for \"\n",
      "C:\\anan\\lib\\site-packages\\sklearn\\metrics\\pairwise.py:1456: FutureWarning: from version 0.25, pairwise_distances for metric='mahalanobis' will require VI to be specified if Y is passed.\n",
      "  warnings.warn(\"from version 0.25, pairwise_distances for \"\n",
      "C:\\anan\\lib\\site-packages\\sklearn\\metrics\\pairwise.py:1456: FutureWarning: from version 0.25, pairwise_distances for metric='mahalanobis' will require VI to be specified if Y is passed.\n",
      "  warnings.warn(\"from version 0.25, pairwise_distances for \"\n",
      "C:\\anan\\lib\\site-packages\\sklearn\\metrics\\pairwise.py:1456: FutureWarning: from version 0.25, pairwise_distances for metric='mahalanobis' will require VI to be specified if Y is passed.\n",
      "  warnings.warn(\"from version 0.25, pairwise_distances for \"\n",
      "C:\\anan\\lib\\site-packages\\sklearn\\metrics\\pairwise.py:1456: FutureWarning: from version 0.25, pairwise_distances for metric='mahalanobis' will require VI to be specified if Y is passed.\n",
      "  warnings.warn(\"from version 0.25, pairwise_distances for \"\n",
      "C:\\anan\\lib\\site-packages\\sklearn\\metrics\\pairwise.py:1456: FutureWarning: from version 0.25, pairwise_distances for metric='mahalanobis' will require VI to be specified if Y is passed.\n",
      "  warnings.warn(\"from version 0.25, pairwise_distances for \"\n",
      "C:\\anan\\lib\\site-packages\\sklearn\\metrics\\pairwise.py:1456: FutureWarning: from version 0.25, pairwise_distances for metric='mahalanobis' will require VI to be specified if Y is passed.\n",
      "  warnings.warn(\"from version 0.25, pairwise_distances for \"\n",
      "C:\\anan\\lib\\site-packages\\sklearn\\metrics\\pairwise.py:1456: FutureWarning: from version 0.25, pairwise_distances for metric='mahalanobis' will require VI to be specified if Y is passed.\n",
      "  warnings.warn(\"from version 0.25, pairwise_distances for \"\n",
      "C:\\anan\\lib\\site-packages\\sklearn\\metrics\\pairwise.py:1456: FutureWarning: from version 0.25, pairwise_distances for metric='mahalanobis' will require VI to be specified if Y is passed.\n",
      "  warnings.warn(\"from version 0.25, pairwise_distances for \"\n",
      "C:\\anan\\lib\\site-packages\\sklearn\\metrics\\pairwise.py:1456: FutureWarning: from version 0.25, pairwise_distances for metric='mahalanobis' will require VI to be specified if Y is passed.\n",
      "  warnings.warn(\"from version 0.25, pairwise_distances for \"\n",
      "C:\\anan\\lib\\site-packages\\sklearn\\metrics\\pairwise.py:1456: FutureWarning: from version 0.25, pairwise_distances for metric='mahalanobis' will require VI to be specified if Y is passed.\n",
      "  warnings.warn(\"from version 0.25, pairwise_distances for \"\n",
      "C:\\anan\\lib\\site-packages\\sklearn\\metrics\\pairwise.py:1456: FutureWarning: from version 0.25, pairwise_distances for metric='mahalanobis' will require VI to be specified if Y is passed.\n",
      "  warnings.warn(\"from version 0.25, pairwise_distances for \"\n",
      "C:\\anan\\lib\\site-packages\\sklearn\\metrics\\pairwise.py:1456: FutureWarning: from version 0.25, pairwise_distances for metric='mahalanobis' will require VI to be specified if Y is passed.\n",
      "  warnings.warn(\"from version 0.25, pairwise_distances for \"\n",
      "C:\\anan\\lib\\site-packages\\sklearn\\metrics\\pairwise.py:1456: FutureWarning: from version 0.25, pairwise_distances for metric='mahalanobis' will require VI to be specified if Y is passed.\n",
      "  warnings.warn(\"from version 0.25, pairwise_distances for \"\n",
      "C:\\anan\\lib\\site-packages\\sklearn\\metrics\\pairwise.py:1456: FutureWarning: from version 0.25, pairwise_distances for metric='mahalanobis' will require VI to be specified if Y is passed.\n",
      "  warnings.warn(\"from version 0.25, pairwise_distances for \"\n",
      "C:\\anan\\lib\\site-packages\\sklearn\\metrics\\pairwise.py:1456: FutureWarning: from version 0.25, pairwise_distances for metric='mahalanobis' will require VI to be specified if Y is passed.\n",
      "  warnings.warn(\"from version 0.25, pairwise_distances for \"\n",
      "C:\\anan\\lib\\site-packages\\sklearn\\metrics\\pairwise.py:1456: FutureWarning: from version 0.25, pairwise_distances for metric='mahalanobis' will require VI to be specified if Y is passed.\n",
      "  warnings.warn(\"from version 0.25, pairwise_distances for \"\n",
      "C:\\anan\\lib\\site-packages\\sklearn\\metrics\\pairwise.py:1456: FutureWarning: from version 0.25, pairwise_distances for metric='mahalanobis' will require VI to be specified if Y is passed.\n",
      "  warnings.warn(\"from version 0.25, pairwise_distances for \"\n",
      "C:\\anan\\lib\\site-packages\\sklearn\\metrics\\pairwise.py:1456: FutureWarning: from version 0.25, pairwise_distances for metric='mahalanobis' will require VI to be specified if Y is passed.\n",
      "  warnings.warn(\"from version 0.25, pairwise_distances for \"\n",
      "C:\\anan\\lib\\site-packages\\sklearn\\metrics\\pairwise.py:1456: FutureWarning: from version 0.25, pairwise_distances for metric='mahalanobis' will require VI to be specified if Y is passed.\n",
      "  warnings.warn(\"from version 0.25, pairwise_distances for \"\n",
      "C:\\anan\\lib\\site-packages\\sklearn\\metrics\\pairwise.py:1456: FutureWarning: from version 0.25, pairwise_distances for metric='mahalanobis' will require VI to be specified if Y is passed.\n",
      "  warnings.warn(\"from version 0.25, pairwise_distances for \"\n"
     ]
    },
    {
     "name": "stderr",
     "output_type": "stream",
     "text": [
      "C:\\anan\\lib\\site-packages\\sklearn\\metrics\\pairwise.py:1456: FutureWarning: from version 0.25, pairwise_distances for metric='mahalanobis' will require VI to be specified if Y is passed.\n",
      "  warnings.warn(\"from version 0.25, pairwise_distances for \"\n",
      "C:\\anan\\lib\\site-packages\\sklearn\\metrics\\pairwise.py:1456: FutureWarning: from version 0.25, pairwise_distances for metric='mahalanobis' will require VI to be specified if Y is passed.\n",
      "  warnings.warn(\"from version 0.25, pairwise_distances for \"\n",
      "C:\\anan\\lib\\site-packages\\sklearn\\metrics\\pairwise.py:1456: FutureWarning: from version 0.25, pairwise_distances for metric='mahalanobis' will require VI to be specified if Y is passed.\n",
      "  warnings.warn(\"from version 0.25, pairwise_distances for \"\n",
      "C:\\anan\\lib\\site-packages\\sklearn\\metrics\\pairwise.py:1456: FutureWarning: from version 0.25, pairwise_distances for metric='mahalanobis' will require VI to be specified if Y is passed.\n",
      "  warnings.warn(\"from version 0.25, pairwise_distances for \"\n",
      "C:\\anan\\lib\\site-packages\\sklearn\\metrics\\pairwise.py:1456: FutureWarning: from version 0.25, pairwise_distances for metric='mahalanobis' will require VI to be specified if Y is passed.\n",
      "  warnings.warn(\"from version 0.25, pairwise_distances for \"\n",
      "C:\\anan\\lib\\site-packages\\sklearn\\metrics\\pairwise.py:1456: FutureWarning: from version 0.25, pairwise_distances for metric='mahalanobis' will require VI to be specified if Y is passed.\n",
      "  warnings.warn(\"from version 0.25, pairwise_distances for \"\n",
      "C:\\anan\\lib\\site-packages\\sklearn\\metrics\\pairwise.py:1456: FutureWarning: from version 0.25, pairwise_distances for metric='mahalanobis' will require VI to be specified if Y is passed.\n",
      "  warnings.warn(\"from version 0.25, pairwise_distances for \"\n",
      "C:\\anan\\lib\\site-packages\\sklearn\\metrics\\pairwise.py:1456: FutureWarning: from version 0.25, pairwise_distances for metric='mahalanobis' will require VI to be specified if Y is passed.\n",
      "  warnings.warn(\"from version 0.25, pairwise_distances for \"\n",
      "C:\\anan\\lib\\site-packages\\sklearn\\metrics\\pairwise.py:1456: FutureWarning: from version 0.25, pairwise_distances for metric='mahalanobis' will require VI to be specified if Y is passed.\n",
      "  warnings.warn(\"from version 0.25, pairwise_distances for \"\n",
      "C:\\anan\\lib\\site-packages\\sklearn\\metrics\\pairwise.py:1456: FutureWarning: from version 0.25, pairwise_distances for metric='mahalanobis' will require VI to be specified if Y is passed.\n",
      "  warnings.warn(\"from version 0.25, pairwise_distances for \"\n",
      "C:\\anan\\lib\\site-packages\\sklearn\\metrics\\pairwise.py:1456: FutureWarning: from version 0.25, pairwise_distances for metric='mahalanobis' will require VI to be specified if Y is passed.\n",
      "  warnings.warn(\"from version 0.25, pairwise_distances for \"\n",
      "C:\\anan\\lib\\site-packages\\sklearn\\metrics\\pairwise.py:1456: FutureWarning: from version 0.25, pairwise_distances for metric='mahalanobis' will require VI to be specified if Y is passed.\n",
      "  warnings.warn(\"from version 0.25, pairwise_distances for \"\n",
      "C:\\anan\\lib\\site-packages\\sklearn\\metrics\\pairwise.py:1456: FutureWarning: from version 0.25, pairwise_distances for metric='mahalanobis' will require VI to be specified if Y is passed.\n",
      "  warnings.warn(\"from version 0.25, pairwise_distances for \"\n",
      "C:\\anan\\lib\\site-packages\\sklearn\\metrics\\pairwise.py:1456: FutureWarning: from version 0.25, pairwise_distances for metric='mahalanobis' will require VI to be specified if Y is passed.\n",
      "  warnings.warn(\"from version 0.25, pairwise_distances for \"\n",
      "C:\\anan\\lib\\site-packages\\sklearn\\metrics\\pairwise.py:1456: FutureWarning: from version 0.25, pairwise_distances for metric='mahalanobis' will require VI to be specified if Y is passed.\n",
      "  warnings.warn(\"from version 0.25, pairwise_distances for \"\n"
     ]
    },
    {
     "data": {
      "image/png": "[encoded data removed]",
      "text/plain": [
       "<Figure size 432x288 with 1 Axes>"
      ]
     },
     "metadata": {
      "needs_background": "light"
     },
     "output_type": "display_data"
    }
   ],
   "source": [
    "train_score = []\n",
    "test_score = []\n",
    "for _ in range(1,100):\n",
    "    kn = KNeighborsClassifier(n_neighbors=_,\n",
    "                          algorithm = 'brute',\n",
    "                          metric='mahalanobis',\n",
    "                          metric_params={'V': np.cov(X)})\n",
    "    kn.fit(X,y)\n",
    "    train_score.append(kn.score(X,y))\n",
    "    test_score.append(kn.score(test_x,test_y))\n",
    "    \n",
    "plt.plot(train_score)\n",
    "plt.plot(test_score)\n",
    "plt.xlabel('n_neighbors')\n",
    "plt.ylabel('accuracy')\n",
    "plt.legend(['Train','Test'])\n",
    "plt.show()"
   ]
  },
  {
   "cell_type": "markdown",
   "metadata": {
    "heading_collapsed": true
   },
   "source": [
    "## correlation_distance"
   ]
  },
  {
   "cell_type": "code",
   "execution_count": 113,
   "metadata": {
    "hidden": true
   },
   "outputs": [],
   "source": [
    "from sklearn.model_selection import train_test_split\n",
    "X , test_x , y, test_y = train_test_split(train_data,target_data, random_state = 10)"
   ]
  },
  {
   "cell_type": "code",
   "execution_count": 114,
   "metadata": {
    "hidden": true
   },
   "outputs": [
    {
     "data": {
      "text/plain": [
       "1.0"
      ]
     },
     "execution_count": 114,
     "metadata": {},
     "output_type": "execute_result"
    }
   ],
   "source": [
    "kn = KNeighborsClassifier(n_neighbors=5, weights = 'distance',metric='correlation')\n",
    "kn.fit(X,y)\n",
    "kn.score(X,y)"
   ]
  },
  {
   "cell_type": "code",
   "execution_count": 115,
   "metadata": {
    "hidden": true
   },
   "outputs": [
    {
     "data": {
      "text/plain": [
       "0.7100330760749725"
      ]
     },
     "execution_count": 115,
     "metadata": {},
     "output_type": "execute_result"
    }
   ],
   "source": [
    "kn.score(test_x,test_y)"
   ]
  },
  {
   "cell_type": "code",
   "execution_count": 116,
   "metadata": {
    "hidden": true
   },
   "outputs": [
    {
     "data": {
      "image/png": "[encoded data removed]",
      "text/plain": [
       "<Figure size 432x288 with 1 Axes>"
      ]
     },
     "metadata": {
      "needs_background": "light"
     },
     "output_type": "display_data"
    }
   ],
   "source": [
    "train_score = []\n",
    "test_score = []\n",
    "for _ in range(1,100):\n",
    "    kn = KNeighborsClassifier(n_neighbors=_, weights = 'distance',metric='correlation')\n",
    "    kn.fit(X,y)\n",
    "    train_score.append(kn.score(X,y))\n",
    "    test_score.append(kn.score(test_x,test_y))\n",
    "    \n",
    "plt.plot(train_score)\n",
    "plt.plot(test_score)\n",
    "plt.xlabel('n_neighbors')\n",
    "plt.ylabel('accuracy')\n",
    "plt.legend(['Train','Test'])\n",
    "plt.show()"
   ]
  },
  {
   "cell_type": "code",
   "execution_count": 117,
   "metadata": {
    "hidden": true
   },
   "outputs": [
    {
     "data": {
      "image/png": "[encoded data removed]",
      "text/plain": [
       "<Figure size 432x288 with 1 Axes>"
      ]
     },
     "metadata": {
      "needs_background": "light"
     },
     "output_type": "display_data"
    }
   ],
   "source": [
    "plt.plot(test_score)\n",
    "plt.xlabel('n_neighbors')\n",
    "plt.ylabel('accuracy')\n",
    "plt.legend(['Test'])\n",
    "plt.show()"
   ]
  },
  {
   "cell_type": "code",
   "execution_count": 118,
   "metadata": {
    "hidden": true
   },
   "outputs": [
    {
     "data": {
      "text/plain": [
       "0.7348401323042999"
      ]
     },
     "execution_count": 118,
     "metadata": {},
     "output_type": "execute_result"
    }
   ],
   "source": [
    "max(test_score)"
   ]
  },
  {
   "cell_type": "code",
   "execution_count": null,
   "metadata": {
    "hidden": true
   },
   "outputs": [],
   "source": []
  }
 ],
 "metadata": {
  "kernelspec": {
   "display_name": "Python 3",
   "language": "python",
   "name": "python3"
  },
  "language_info": {
   "codemirror_mode": {
    "name": "ipython",
    "version": 3
   },
   "file_extension": ".py",
   "mimetype": "text/x-python",
   "name": "python",
   "nbconvert_exporter": "python",
   "pygments_lexer": "ipython3",
   "version": "3.8.3"
  },
  "toc": {
   "base_numbering": 1,
   "nav_menu": {},
   "number_sections": true,
   "sideBar": true,
   "skip_h1_title": false,
   "title_cell": "Table of Contents",
   "title_sidebar": "Contents",
   "toc_cell": false,
   "toc_position": {},
   "toc_section_display": true,
   "toc_window_display": false
  }
 },
 "nbformat": 4,
 "nbformat_minor": 4
}
