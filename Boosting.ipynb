{
 "cells": [
  {
   "cell_type": "markdown",
   "metadata": {},
   "source": [
    "# Boosting\n",
    " - weak learner에 대해 맞추지 못한 data에 weight를 주어 학습을 하는 방식\n",
    " - 지정한 반복 횟수 만큼 학습(반복이 많으면 overfitting에 문제가 있을수 있음.)\n",
    " - bagging과 똑같이 데이터를 복원추출"
   ]
  },
  {
   "cell_type": "markdown",
   "metadata": {},
   "source": [
    "## AdaBoost(Adaptive Boosting)\n",
    " - additive model(가법 기법)을 기반으로 한 모델\n",
    " - 각 학습때 잘 맞추지 못하는 데이터에 가중치를 주어 다음 학습때 샘플링(복원추출)이 되게 하여 학습을 하는 방법\n",
    " - $$ H(x) = sign{\\sum_{m=1}^M a_m*h_m(x)} $$\n",
    " - $ a_m $ : $h_m(x)$에 대한 가중치 ($h_m(x)$ 가 잘맞추면 가중치는 크고 못맞추면 낮다.) "
   ]
  },
  {
   "cell_type": "markdown",
   "metadata": {},
   "source": [
    "### AdaBoost params\n",
    " - base_estimator : 기본 learner (default = None)\n",
    " - n_estimators : 반복 횟수 (default = 50)\n",
    " - learning_rate : weak learner가 순차적으로 오류 값을 보정해나갈 때 적용하는 계수, 기존 모델이 새로운모델에 얼마나 기여를 할지를 결정 (default = 1.0)\n",
    " - algorithm : 가중치를 주는 알고리즘 {'SAMME','SAMME.R'}  (default= 'SAMME.R')\n",
    " * n_estimators, learning_rate 두개는 서로 trade-off 관계이다(n_estimators를 높이고 learning_rate를 낮추면 효과가 상쇄된다.)"
   ]
  },
  {
   "cell_type": "markdown",
   "metadata": {},
   "source": [
    "### AdaBoost example"
   ]
  },
  {
   "cell_type": "code",
   "execution_count": 1,
   "metadata": {},
   "outputs": [],
   "source": [
    "import pandas as pd\n",
    "import matplotlib.pyplot as plt\n",
    "import numpy as np"
   ]
  },
  {
   "cell_type": "code",
   "execution_count": 2,
   "metadata": {},
   "outputs": [],
   "source": [
    "err_data_target = pd.read_csv('./err_model_nm_target.csv')\n",
    "train_data = err_data_target.drop(['user_id','model_nm','target'],axis =1)\n",
    "target_data = err_data_target['target']"
   ]
  },
  {
   "cell_type": "code",
   "execution_count": 3,
   "metadata": {},
   "outputs": [
    {
     "data": {
      "text/html": [
       "<div>\n",
       "<style scoped>\n",
       "    .dataframe tbody tr th:only-of-type {\n",
       "        vertical-align: middle;\n",
       "    }\n",
       "\n",
       "    .dataframe tbody tr th {\n",
       "        vertical-align: top;\n",
       "    }\n",
       "\n",
       "    .dataframe thead th {\n",
       "        text-align: right;\n",
       "    }\n",
       "</style>\n",
       "<table border=\"1\" class=\"dataframe\">\n",
       "  <thead>\n",
       "    <tr style=\"text-align: right;\">\n",
       "      <th></th>\n",
       "      <th>errtype_1</th>\n",
       "      <th>errtype_2</th>\n",
       "      <th>errtype_3</th>\n",
       "      <th>errtype_4</th>\n",
       "      <th>errtype_5</th>\n",
       "      <th>errtype_6</th>\n",
       "      <th>errtype_7</th>\n",
       "      <th>errtype_8</th>\n",
       "      <th>errtype_9</th>\n",
       "      <th>errtype_10</th>\n",
       "      <th>...</th>\n",
       "      <th>errtype_33</th>\n",
       "      <th>errtype_34</th>\n",
       "      <th>errtype_35</th>\n",
       "      <th>errtype_36</th>\n",
       "      <th>errtype_37</th>\n",
       "      <th>errtype_38</th>\n",
       "      <th>errtype_39</th>\n",
       "      <th>errtype_40</th>\n",
       "      <th>errtype_41</th>\n",
       "      <th>errtype_42</th>\n",
       "    </tr>\n",
       "  </thead>\n",
       "  <tbody>\n",
       "    <tr>\n",
       "      <th>0</th>\n",
       "      <td>0.0</td>\n",
       "      <td>0.0</td>\n",
       "      <td>0.0</td>\n",
       "      <td>0.0</td>\n",
       "      <td>53.0</td>\n",
       "      <td>1.0</td>\n",
       "      <td>1.0</td>\n",
       "      <td>0.0</td>\n",
       "      <td>0.0</td>\n",
       "      <td>0.0</td>\n",
       "      <td>...</td>\n",
       "      <td>10.0</td>\n",
       "      <td>18.0</td>\n",
       "      <td>0.0</td>\n",
       "      <td>1.0</td>\n",
       "      <td>1.0</td>\n",
       "      <td>0.0</td>\n",
       "      <td>0.0</td>\n",
       "      <td>113.0</td>\n",
       "      <td>56.0</td>\n",
       "      <td>1.0</td>\n",
       "    </tr>\n",
       "    <tr>\n",
       "      <th>1</th>\n",
       "      <td>0.0</td>\n",
       "      <td>0.0</td>\n",
       "      <td>0.0</td>\n",
       "      <td>0.0</td>\n",
       "      <td>2.0</td>\n",
       "      <td>1.0</td>\n",
       "      <td>1.0</td>\n",
       "      <td>0.0</td>\n",
       "      <td>0.0</td>\n",
       "      <td>0.0</td>\n",
       "      <td>...</td>\n",
       "      <td>8.0</td>\n",
       "      <td>0.0</td>\n",
       "      <td>0.0</td>\n",
       "      <td>1.0</td>\n",
       "      <td>1.0</td>\n",
       "      <td>2.0</td>\n",
       "      <td>0.0</td>\n",
       "      <td>17.0</td>\n",
       "      <td>1.0</td>\n",
       "      <td>0.0</td>\n",
       "    </tr>\n",
       "    <tr>\n",
       "      <th>2</th>\n",
       "      <td>0.0</td>\n",
       "      <td>0.0</td>\n",
       "      <td>0.0</td>\n",
       "      <td>0.0</td>\n",
       "      <td>0.0</td>\n",
       "      <td>0.0</td>\n",
       "      <td>0.0</td>\n",
       "      <td>0.0</td>\n",
       "      <td>0.0</td>\n",
       "      <td>0.0</td>\n",
       "      <td>...</td>\n",
       "      <td>16.0</td>\n",
       "      <td>0.0</td>\n",
       "      <td>0.0</td>\n",
       "      <td>1.0</td>\n",
       "      <td>1.0</td>\n",
       "      <td>0.0</td>\n",
       "      <td>0.0</td>\n",
       "      <td>0.0</td>\n",
       "      <td>0.0</td>\n",
       "      <td>3.0</td>\n",
       "    </tr>\n",
       "    <tr>\n",
       "      <th>3</th>\n",
       "      <td>0.0</td>\n",
       "      <td>0.0</td>\n",
       "      <td>0.0</td>\n",
       "      <td>0.0</td>\n",
       "      <td>0.0</td>\n",
       "      <td>0.0</td>\n",
       "      <td>0.0</td>\n",
       "      <td>0.0</td>\n",
       "      <td>0.0</td>\n",
       "      <td>0.0</td>\n",
       "      <td>...</td>\n",
       "      <td>15.0</td>\n",
       "      <td>0.0</td>\n",
       "      <td>0.0</td>\n",
       "      <td>1.0</td>\n",
       "      <td>1.0</td>\n",
       "      <td>0.0</td>\n",
       "      <td>0.0</td>\n",
       "      <td>0.0</td>\n",
       "      <td>0.0</td>\n",
       "      <td>1.0</td>\n",
       "    </tr>\n",
       "    <tr>\n",
       "      <th>4</th>\n",
       "      <td>0.0</td>\n",
       "      <td>0.0</td>\n",
       "      <td>0.0</td>\n",
       "      <td>0.0</td>\n",
       "      <td>9.0</td>\n",
       "      <td>0.0</td>\n",
       "      <td>0.0</td>\n",
       "      <td>0.0</td>\n",
       "      <td>0.0</td>\n",
       "      <td>0.0</td>\n",
       "      <td>...</td>\n",
       "      <td>16.0</td>\n",
       "      <td>1.0</td>\n",
       "      <td>0.0</td>\n",
       "      <td>0.0</td>\n",
       "      <td>0.0</td>\n",
       "      <td>0.0</td>\n",
       "      <td>0.0</td>\n",
       "      <td>102.0</td>\n",
       "      <td>1.0</td>\n",
       "      <td>0.0</td>\n",
       "    </tr>\n",
       "    <tr>\n",
       "      <th>...</th>\n",
       "      <td>...</td>\n",
       "      <td>...</td>\n",
       "      <td>...</td>\n",
       "      <td>...</td>\n",
       "      <td>...</td>\n",
       "      <td>...</td>\n",
       "      <td>...</td>\n",
       "      <td>...</td>\n",
       "      <td>...</td>\n",
       "      <td>...</td>\n",
       "      <td>...</td>\n",
       "      <td>...</td>\n",
       "      <td>...</td>\n",
       "      <td>...</td>\n",
       "      <td>...</td>\n",
       "      <td>...</td>\n",
       "      <td>...</td>\n",
       "      <td>...</td>\n",
       "      <td>...</td>\n",
       "      <td>...</td>\n",
       "      <td>...</td>\n",
       "    </tr>\n",
       "    <tr>\n",
       "      <th>7250</th>\n",
       "      <td>0.0</td>\n",
       "      <td>0.0</td>\n",
       "      <td>0.0</td>\n",
       "      <td>29.0</td>\n",
       "      <td>4.0</td>\n",
       "      <td>0.0</td>\n",
       "      <td>0.0</td>\n",
       "      <td>0.0</td>\n",
       "      <td>0.0</td>\n",
       "      <td>0.0</td>\n",
       "      <td>...</td>\n",
       "      <td>0.0</td>\n",
       "      <td>0.0</td>\n",
       "      <td>0.0</td>\n",
       "      <td>0.0</td>\n",
       "      <td>0.0</td>\n",
       "      <td>0.0</td>\n",
       "      <td>0.0</td>\n",
       "      <td>0.0</td>\n",
       "      <td>0.0</td>\n",
       "      <td>0.0</td>\n",
       "    </tr>\n",
       "    <tr>\n",
       "      <th>7251</th>\n",
       "      <td>0.0</td>\n",
       "      <td>0.0</td>\n",
       "      <td>4.0</td>\n",
       "      <td>95.0</td>\n",
       "      <td>4.0</td>\n",
       "      <td>4.0</td>\n",
       "      <td>4.0</td>\n",
       "      <td>0.0</td>\n",
       "      <td>0.0</td>\n",
       "      <td>0.0</td>\n",
       "      <td>...</td>\n",
       "      <td>0.0</td>\n",
       "      <td>0.0</td>\n",
       "      <td>0.0</td>\n",
       "      <td>0.0</td>\n",
       "      <td>0.0</td>\n",
       "      <td>0.0</td>\n",
       "      <td>0.0</td>\n",
       "      <td>0.0</td>\n",
       "      <td>0.0</td>\n",
       "      <td>0.0</td>\n",
       "    </tr>\n",
       "    <tr>\n",
       "      <th>7252</th>\n",
       "      <td>0.0</td>\n",
       "      <td>0.0</td>\n",
       "      <td>0.0</td>\n",
       "      <td>0.0</td>\n",
       "      <td>0.0</td>\n",
       "      <td>0.0</td>\n",
       "      <td>0.0</td>\n",
       "      <td>0.0</td>\n",
       "      <td>0.0</td>\n",
       "      <td>0.0</td>\n",
       "      <td>...</td>\n",
       "      <td>0.0</td>\n",
       "      <td>0.0</td>\n",
       "      <td>0.0</td>\n",
       "      <td>0.0</td>\n",
       "      <td>0.0</td>\n",
       "      <td>0.0</td>\n",
       "      <td>0.0</td>\n",
       "      <td>0.0</td>\n",
       "      <td>0.0</td>\n",
       "      <td>0.0</td>\n",
       "    </tr>\n",
       "    <tr>\n",
       "      <th>7253</th>\n",
       "      <td>0.0</td>\n",
       "      <td>0.0</td>\n",
       "      <td>0.0</td>\n",
       "      <td>0.0</td>\n",
       "      <td>0.0</td>\n",
       "      <td>0.0</td>\n",
       "      <td>0.0</td>\n",
       "      <td>0.0</td>\n",
       "      <td>0.0</td>\n",
       "      <td>0.0</td>\n",
       "      <td>...</td>\n",
       "      <td>15.0</td>\n",
       "      <td>12.0</td>\n",
       "      <td>0.0</td>\n",
       "      <td>1.0</td>\n",
       "      <td>1.0</td>\n",
       "      <td>0.0</td>\n",
       "      <td>0.0</td>\n",
       "      <td>6.0</td>\n",
       "      <td>0.0</td>\n",
       "      <td>0.0</td>\n",
       "    </tr>\n",
       "    <tr>\n",
       "      <th>7254</th>\n",
       "      <td>0.0</td>\n",
       "      <td>0.0</td>\n",
       "      <td>4.0</td>\n",
       "      <td>192.0</td>\n",
       "      <td>7.0</td>\n",
       "      <td>5.0</td>\n",
       "      <td>4.0</td>\n",
       "      <td>0.0</td>\n",
       "      <td>0.0</td>\n",
       "      <td>0.0</td>\n",
       "      <td>...</td>\n",
       "      <td>0.0</td>\n",
       "      <td>0.0</td>\n",
       "      <td>0.0</td>\n",
       "      <td>0.0</td>\n",
       "      <td>0.0</td>\n",
       "      <td>0.0</td>\n",
       "      <td>0.0</td>\n",
       "      <td>0.0</td>\n",
       "      <td>0.0</td>\n",
       "      <td>0.0</td>\n",
       "    </tr>\n",
       "  </tbody>\n",
       "</table>\n",
       "<p>7255 rows × 41 columns</p>\n",
       "</div>"
      ],
      "text/plain": [
       "      errtype_1  errtype_2  errtype_3  errtype_4  errtype_5  errtype_6  \\\n",
       "0           0.0        0.0        0.0        0.0       53.0        1.0   \n",
       "1           0.0        0.0        0.0        0.0        2.0        1.0   \n",
       "2           0.0        0.0        0.0        0.0        0.0        0.0   \n",
       "3           0.0        0.0        0.0        0.0        0.0        0.0   \n",
       "4           0.0        0.0        0.0        0.0        9.0        0.0   \n",
       "...         ...        ...        ...        ...        ...        ...   \n",
       "7250        0.0        0.0        0.0       29.0        4.0        0.0   \n",
       "7251        0.0        0.0        4.0       95.0        4.0        4.0   \n",
       "7252        0.0        0.0        0.0        0.0        0.0        0.0   \n",
       "7253        0.0        0.0        0.0        0.0        0.0        0.0   \n",
       "7254        0.0        0.0        4.0      192.0        7.0        5.0   \n",
       "\n",
       "      errtype_7  errtype_8  errtype_9  errtype_10  ...  errtype_33  \\\n",
       "0           1.0        0.0        0.0         0.0  ...        10.0   \n",
       "1           1.0        0.0        0.0         0.0  ...         8.0   \n",
       "2           0.0        0.0        0.0         0.0  ...        16.0   \n",
       "3           0.0        0.0        0.0         0.0  ...        15.0   \n",
       "4           0.0        0.0        0.0         0.0  ...        16.0   \n",
       "...         ...        ...        ...         ...  ...         ...   \n",
       "7250        0.0        0.0        0.0         0.0  ...         0.0   \n",
       "7251        4.0        0.0        0.0         0.0  ...         0.0   \n",
       "7252        0.0        0.0        0.0         0.0  ...         0.0   \n",
       "7253        0.0        0.0        0.0         0.0  ...        15.0   \n",
       "7254        4.0        0.0        0.0         0.0  ...         0.0   \n",
       "\n",
       "      errtype_34  errtype_35  errtype_36  errtype_37  errtype_38  errtype_39  \\\n",
       "0           18.0         0.0         1.0         1.0         0.0         0.0   \n",
       "1            0.0         0.0         1.0         1.0         2.0         0.0   \n",
       "2            0.0         0.0         1.0         1.0         0.0         0.0   \n",
       "3            0.0         0.0         1.0         1.0         0.0         0.0   \n",
       "4            1.0         0.0         0.0         0.0         0.0         0.0   \n",
       "...          ...         ...         ...         ...         ...         ...   \n",
       "7250         0.0         0.0         0.0         0.0         0.0         0.0   \n",
       "7251         0.0         0.0         0.0         0.0         0.0         0.0   \n",
       "7252         0.0         0.0         0.0         0.0         0.0         0.0   \n",
       "7253        12.0         0.0         1.0         1.0         0.0         0.0   \n",
       "7254         0.0         0.0         0.0         0.0         0.0         0.0   \n",
       "\n",
       "      errtype_40  errtype_41  errtype_42  \n",
       "0          113.0        56.0         1.0  \n",
       "1           17.0         1.0         0.0  \n",
       "2            0.0         0.0         3.0  \n",
       "3            0.0         0.0         1.0  \n",
       "4          102.0         1.0         0.0  \n",
       "...          ...         ...         ...  \n",
       "7250         0.0         0.0         0.0  \n",
       "7251         0.0         0.0         0.0  \n",
       "7252         0.0         0.0         0.0  \n",
       "7253         6.0         0.0         0.0  \n",
       "7254         0.0         0.0         0.0  \n",
       "\n",
       "[7255 rows x 41 columns]"
      ]
     },
     "execution_count": 3,
     "metadata": {},
     "output_type": "execute_result"
    }
   ],
   "source": [
    "train_data"
   ]
  },
  {
   "cell_type": "code",
   "execution_count": null,
   "metadata": {},
   "outputs": [],
   "source": []
  },
  {
   "cell_type": "code",
   "execution_count": 4,
   "metadata": {},
   "outputs": [],
   "source": [
    "from sklearn.model_selection import train_test_split\n",
    "train_data , test_data, train_target, test_target = train_test_split(train_data, target_data)"
   ]
  },
  {
   "cell_type": "code",
   "execution_count": 5,
   "metadata": {},
   "outputs": [],
   "source": [
    "from sklearn.ensemble import AdaBoostClassifier\n",
    "from sklearn.tree import DecisionTreeClassifier"
   ]
  },
  {
   "cell_type": "markdown",
   "metadata": {},
   "source": [
    " - randomizedSearchCV로 하이퍼파라미터 튜닝"
   ]
  },
  {
   "cell_type": "code",
   "execution_count": 6,
   "metadata": {},
   "outputs": [
    {
     "data": {
      "text/plain": [
       "RandomizedSearchCV(estimator=DecisionTreeClassifier(random_state=10),\n",
       "                   n_iter=100,\n",
       "                   param_distributions={'max_depth': range(3, 20),\n",
       "                                        'min_impurity_decrease': <scipy.stats._distn_infrastructure.rv_frozen object at 0x000001AE7D6359D0>,\n",
       "                                        'min_samples_leaf': range(1, 25),\n",
       "                                        'min_samples_split': range(2, 25)},\n",
       "                   random_state=42)"
      ]
     },
     "execution_count": 6,
     "metadata": {},
     "output_type": "execute_result"
    }
   ],
   "source": [
    "from scipy.stats import uniform,randint\n",
    "params = {'min_impurity_decrease': uniform(0.0001,0.001),\n",
    "          'min_samples_split': range(2,25),\n",
    "          'min_samples_leaf': range(1,25),\n",
    "          'max_depth': range(3,20)}\n",
    "from sklearn.model_selection import RandomizedSearchCV\n",
    "rd = RandomizedSearchCV(DecisionTreeClassifier(random_state=10),params, n_iter = 100,random_state = 42)\n",
    "rd.fit(train_data,train_target)"
   ]
  },
  {
   "cell_type": "code",
   "execution_count": 7,
   "metadata": {},
   "outputs": [
    {
     "name": "stdout",
     "output_type": "stream",
     "text": [
      "{'max_depth': 6, 'min_impurity_decrease': 0.0008121792213475359, 'min_samples_leaf': 1, 'min_samples_split': 15}\n"
     ]
    }
   ],
   "source": [
    "print(rd.best_params_)"
   ]
  },
  {
   "cell_type": "code",
   "execution_count": 8,
   "metadata": {},
   "outputs": [
    {
     "data": {
      "text/plain": [
       "AdaBoostClassifier(base_estimator=DecisionTreeClassifier(max_depth=17,\n",
       "                                                         min_impurity_decrease=0.0010900538501042634,\n",
       "                                                         min_samples_leaf=2,\n",
       "                                                         min_samples_split=11),\n",
       "                   learning_rate=0.5, n_estimators=100)"
      ]
     },
     "execution_count": 8,
     "metadata": {},
     "output_type": "execute_result"
    }
   ],
   "source": [
    "tree = DecisionTreeClassifier(max_depth = 17, min_impurity_decrease=0.0010900538501042634, min_samples_leaf=2, min_samples_split=11)\n",
    "ad_model = AdaBoostClassifier(base_estimator=tree, learning_rate=0.5,n_estimators=100)\n",
    "ad_model.fit(train_data, train_target)"
   ]
  },
  {
   "cell_type": "code",
   "execution_count": 9,
   "metadata": {},
   "outputs": [
    {
     "name": "stdout",
     "output_type": "stream",
     "text": [
      "train_score: 0.8395515530233413\n",
      "test_score: 0.7861080485115767\n",
      "AUC: 0.7612852513715551\n"
     ]
    }
   ],
   "source": [
    "from sklearn.metrics import *\n",
    "pred_proba = ad_model.predict_proba(test_data)\n",
    "\n",
    "print('train_score:',ad_model.score(train_data,train_target))\n",
    "print('test_score:',ad_model.score(test_data,test_target))\n",
    "print('AUC:',roc_auc_score(test_target, pred_proba[:,1]))"
   ]
  },
  {
   "cell_type": "markdown",
   "metadata": {},
   "source": [
    " - learning_rate 변경"
   ]
  },
  {
   "cell_type": "code",
   "execution_count": 10,
   "metadata": {},
   "outputs": [
    {
     "name": "stdout",
     "output_type": "stream",
     "text": [
      "train_score: 0.8443300863811799\n",
      "test_score: 0.7877618522601985\n",
      "AUC: 0.7656928663858626\n"
     ]
    }
   ],
   "source": [
    "ad_model = AdaBoostClassifier(base_estimator=tree, learning_rate=0.55,n_estimators=100)\n",
    "ad_model.fit(train_data, train_target)\n",
    "pred_proba = ad_model.predict_proba(test_data)\n",
    "\n",
    "print('train_score:',ad_model.score(train_data,train_target))\n",
    "print('test_score:',ad_model.score(test_data,test_target))\n",
    "print('AUC:',roc_auc_score(test_target, pred_proba[:,1]))"
   ]
  },
  {
   "cell_type": "markdown",
   "metadata": {},
   "source": [
    " - n_estimators 변경"
   ]
  },
  {
   "cell_type": "code",
   "execution_count": 11,
   "metadata": {
    "scrolled": true
   },
   "outputs": [
    {
     "name": "stdout",
     "output_type": "stream",
     "text": [
      "train_score: 0.8443300863811799\n",
      "test_score: 0.7877618522601985\n",
      "AUC: 0.7656928663858626\n",
      "----------------------------------------\n",
      "train_score: 0.8443300863811799\n",
      "test_score: 0.7877618522601985\n",
      "AUC: 0.7656928663858626\n",
      "----------------------------------------\n",
      "train_score: 0.8443300863811799\n",
      "test_score: 0.7877618522601985\n",
      "AUC: 0.7657478660879475\n",
      "----------------------------------------\n",
      "train_score: 0.8443300863811799\n",
      "test_score: 0.7877618522601985\n",
      "AUC: 0.7656928663858626\n",
      "----------------------------------------\n",
      "train_score: 0.8443300863811799\n",
      "test_score: 0.7877618522601985\n",
      "AUC: 0.7657478660879475\n",
      "----------------------------------------\n",
      "train_score: 0.8443300863811799\n",
      "test_score: 0.7877618522601985\n",
      "AUC: 0.7656928663858626\n",
      "----------------------------------------\n",
      "train_score: 0.8443300863811799\n",
      "test_score: 0.7877618522601985\n",
      "AUC: 0.7656928663858626\n",
      "----------------------------------------\n"
     ]
    }
   ],
   "source": [
    "n_ = [100,200,300,400,500,600,1000]\n",
    "for i in n_ :\n",
    "    ad_model = AdaBoostClassifier(base_estimator=tree, learning_rate=0.55,n_estimators=i)\n",
    "    ad_model.fit(train_data, train_target)\n",
    "    pred_proba = ad_model.predict_proba(test_data)\n",
    "\n",
    "    print('train_score:',ad_model.score(train_data,train_target))\n",
    "    print('test_score:',ad_model.score(test_data,test_target))\n",
    "    print('AUC:',roc_auc_score(test_target, pred_proba[:,1]))\n",
    "    print('----------------------------------------')"
   ]
  },
  {
   "cell_type": "markdown",
   "metadata": {},
   "source": [
    "# Gradient Boosting\n",
    " - 이전 반복에 $H(x)$ 모델에 대해 오차에 대한 예측을 하는 모델\n",
    " - $ y = h_m(x) + error $ -> $error = h_1(x) +error$ -> $...$ -> $ y = h_0(x) + h_1(x) + ... + error$\n",
    " - grandient라고 부르는 이유는 loss 함수의 미분이 잔차의 음에 계수와 같아서 이다."
   ]
  },
  {
   "cell_type": "markdown",
   "metadata": {},
   "source": [
    "## XGboost\n",
    " - gbm(기본 gradient boostion model) 보다 빠르다.\n",
    " - overfitting을 줄일수 있다.\n",
    " - CART(Classification and Regression Tree)를 기반으로 한다. 즉 트리 기반모델\n",
    " - Early Stopping을 제공 -> 과적합 방지\n",
    " - 목적식에  Regularization term을 주어 overfitting을 방지\n",
    " - $$obj_t = \\sum_{i=1}^n l(Y_i,\\hat Y_i) + \\sum_{i=1}^n\\Omega(f_i)$$\n",
    " - $ \\sum_{i=1}^n\\Omega(f_i)$ : Regularization term"
   ]
  },
  {
   "cell_type": "markdown",
   "metadata": {},
   "source": [
    "### XGboost params\n",
    " - booster : {gbtree, gblinear} (default = gbtree)\n",
    " - verbosity : 메세지 조절 {0 (무음), 1 (경고), 2 (정보), 3 (디버그)}\n",
    " - n_estimators : 반복 횟수 (default = 50)\n",
    " - learning_rate \n",
    " - max_depth \n",
    " - gamma : 최소 손실 감소량 (트리 기반이므로 다음 노드로 넘어가는 기준) (default = 0)\n",
    " - subsample : 데이터 샘플링 비율 (default = 1)\n",
    " - colsubample : 변수의 샘플링 비율 (default = 1)\n",
    " - min_child_weight : 자식 노드의 weight의 합계 (합계가 설정보다 안나올시 노드분할을 하지 않는다.) (default = 1)\n",
    " - max_delta_step : 각 리프 출력을 허용하는 최대 델타 값 (default = 0), 일반적으로 사용하지 않음, 클래스가 극도로 불균형 한 경우 로지스                     틱 회귀에 도움이 될 수 있다.\n",
    " - lambda : L2 nrom\n",
    " - alpha : L1 nrom\n",
    " - objective : 목적함수 종류 {binary:logistic(이진 분류), multi:softmax(다중 분류), multi-softprob(다중 확률)}(더있지만 자주 쓰는것들)\n",
    " \n",
    "### fit params\n",
    " - eval_set : 검증 데이터셋\n",
    " - eval_metric : 정확도 관련 지표를 활용하므로 설정해 주어야됨 ex) mse, auc etc...\n",
    " - early_stopping_rounds : eval_set, eval_metric을 기준으로 조기종료를 결정.\n",
    " "
   ]
  },
  {
   "cell_type": "markdown",
   "metadata": {},
   "source": [
    "### XGboost example"
   ]
  },
  {
   "cell_type": "code",
   "execution_count": 12,
   "metadata": {},
   "outputs": [],
   "source": [
    "import xgboost as xgb"
   ]
  },
  {
   "cell_type": "code",
   "execution_count": 13,
   "metadata": {},
   "outputs": [
    {
     "name": "stdout",
     "output_type": "stream",
     "text": [
      "[16:23:59] WARNING: C:/Users/Administrator/workspace/xgboost-win64_release_1.3.0/src/learner.cc:541: \n",
      "Parameters: { colsubsample, n_estimators } might not be used.\n",
      "\n",
      "  This may not be accurate due to some parameters are only used in language bindings but\n",
      "  passed down to XGBoost core.  Or some parameters are not used but slip through this\n",
      "  verification. Please open an issue if you find above cases.\n",
      "\n",
      "\n",
      "[16:23:59] WARNING: C:/Users/Administrator/workspace/xgboost-win64_release_1.3.0/src/learner.cc:1061: Starting in XGBoost 1.3.0, the default evaluation metric used with the objective 'binary:logistic' was changed from 'error' to 'logloss'. Explicitly set eval_metric if you'd like to restore the old behavior.\n"
     ]
    }
   ],
   "source": [
    "xgb_dtrain = xgb.DMatrix(data = train_data, label = train_target) # 학습 데이터를 XGBoost 모델에 맞게 변환\n",
    "xgb_dtest = xgb.DMatrix(data = test_data)\n",
    "xgb_param = {'max_depth': 12,\n",
    "             'learning_rate': 0.03,\n",
    "            'n_estimators': 100,\n",
    "            'objective': 'binary:logistic',\n",
    "            'subsample': 0.6,\n",
    "            'colsubsample':0.8}\n",
    "xgb_model = xgb.train(params=xgb_param, dtrain=xgb_dtrain,num_boost_round=100)"
   ]
  },
  {
   "cell_type": "code",
   "execution_count": 14,
   "metadata": {},
   "outputs": [
    {
     "name": "stdout",
     "output_type": "stream",
     "text": [
      "train_score: 0.9250137842308399\n",
      "test_score: 0.7921719955898566\n",
      "AUC: 0.7926839701840505\n"
     ]
    }
   ],
   "source": [
    "from sklearn.metrics import *\n",
    "pred = xgb_model.predict(xgb_dtest)\n",
    "a =0.5\n",
    "\n",
    "\n",
    "print('train_score:',accuracy_score(train_target,np.where(xgb_model.predict(xgb_dtrain) >a,1,0)))\n",
    "print('test_score:',accuracy_score(test_target,np.where(pred>a,1,0)))\n",
    "print('AUC:',roc_auc_score(test_target, pred))"
   ]
  },
  {
   "cell_type": "code",
   "execution_count": 15,
   "metadata": {
    "scrolled": true
   },
   "outputs": [
    {
     "data": {
      "text/plain": [
       "array([0.8814361 , 0.18251161, 0.19391662, ..., 0.05549373, 0.42546234,\n",
       "       0.49011493], dtype=float32)"
      ]
     },
     "execution_count": 15,
     "metadata": {},
     "output_type": "execute_result"
    }
   ],
   "source": [
    "pred"
   ]
  },
  {
   "cell_type": "markdown",
   "metadata": {},
   "source": [
    "## Light GBM\n",
    "  - tree 기반 모델\n",
    "  - 다른 tree기반 모델과는 다르게 Leaf_wise_growth에 형태를 가진다.\n",
    "  - Leaf_wise_growth로 인해 loss를 줄 일 수 있다고 한다.\n",
    "  - Leaf_wise_growth를 사용하면 overfitting에 민감하게 되어 대량에 데이터를 사용 할 때 좋다고 한다.\n",
    "  - lightgbm 또한 xgboost처럼 Regularization term이 있다.\n",
    "  - xgboost에 비해 속도가 빠르다.또한 GPU지원도 한다고 한다."
   ]
  },
  {
   "cell_type": "code",
   "execution_count": 16,
   "metadata": {
    "hide_input": false,
    "scrolled": false
   },
   "outputs": [
    {
     "data": {
      "image/png": "[encoded data removed]",
      "text/plain": [
       "<IPython.core.display.Image object>"
      ]
     },
     "execution_count": 16,
     "metadata": {
      "image/png": {
       "height": 1000,
       "width": 500
      }
     },
     "output_type": "execute_result"
    }
   ],
   "source": [
    "from IPython.display import Image  \n",
    "Image('./leaf-wise-tree.png',width=500,height=1000)"
   ]
  },
  {
   "cell_type": "code",
   "execution_count": 17,
   "metadata": {
    "hide_input": false,
    "scrolled": false
   },
   "outputs": [
    {
     "data": {
      "image/png": "[encoded data removed]",
      "text/plain": [
       "<IPython.core.display.Image object>"
      ]
     },
     "execution_count": 17,
     "metadata": {
      "image/png": {
       "height": 1000,
       "width": 500
      }
     },
     "output_type": "execute_result"
    }
   ],
   "source": [
    "Image('./level-wise-tree.png',width=500,height=1000)"
   ]
  },
  {
   "cell_type": "markdown",
   "metadata": {},
   "source": [
    "### Light GBM params\n",
    " - boosting_type : (default='gbdt') {gbdt, dart, goss, rf}\n",
    " - num_leaves: (default = 31), tree의 최대 leaf 수\n",
    " - max_depth \n",
    " - num_boost_round : boosting 횟수 \n",
    " - learning_rate\n",
    " - objective\n",
    " - min_data_in_leaf: leaf 하나에 들어 있어야 되는 최소 갯수\n",
    " - metric : loss 평가 지표\n",
    " - early_stopping_rounds \n",
    " - feval : 사용자 지정 평가 지표\n",
    " - verbose_eval : 진행사항 표시 ex) verbose_eval를 20으로 하면 20번마다 진행사항 출력\n",
    " - subsample\n",
    " - colsubample"
   ]
  },
  {
   "cell_type": "markdown",
   "metadata": {},
   "source": [
    "### Light GBM example"
   ]
  },
  {
   "cell_type": "code",
   "execution_count": 18,
   "metadata": {},
   "outputs": [],
   "source": [
    "import lightgbm as lgb"
   ]
  },
  {
   "cell_type": "code",
   "execution_count": 19,
   "metadata": {},
   "outputs": [
    {
     "name": "stderr",
     "output_type": "stream",
     "text": [
      "C:\\anan\\lib\\site-packages\\lightgbm\\engine.py:151: UserWarning: Found `num_boost_round` in params. Will use it instead of argument\n",
      "  warnings.warn(\"Found `{}` in params. Will use it instead of argument\".format(alias))\n"
     ]
    },
    {
     "name": "stdout",
     "output_type": "stream",
     "text": [
      "[LightGBM] [Info] Number of positive: 1462, number of negative: 3979\n",
      "[LightGBM] [Warning] Auto-choosing col-wise multi-threading, the overhead of testing was 0.005285 seconds.\n",
      "You can set `force_col_wise=true` to remove the overhead.\n",
      "[LightGBM] [Info] Total Bins 3235\n",
      "[LightGBM] [Info] Number of data points in the train set: 5441, number of used features: 40\n",
      "[LightGBM] [Info] [binary:BoostFromScore]: pavg=0.268701 -> initscore=-1.001225\n",
      "[LightGBM] [Info] Start training from score -1.001225\n"
     ]
    }
   ],
   "source": [
    "lgb_dtrain = lgb.Dataset(data= train_data,label=train_target)\n",
    "lgb_param = {'boosting_type':'gbdt',\n",
    "             'num_leaves': 20,\n",
    "             'max_depth':12,\n",
    "             'num_boost_round':100,\n",
    "             'learning_rate':0.03,\n",
    "             'objective':'binary',\n",
    "             'metric': 'auc',\n",
    "             'subsample': 0.7}\n",
    "\n",
    "lgb_model = lgb.train(params=lgb_param, train_set=lgb_dtrain)"
   ]
  },
  {
   "cell_type": "code",
   "execution_count": 20,
   "metadata": {
    "scrolled": true
   },
   "outputs": [
    {
     "name": "stdout",
     "output_type": "stream",
     "text": [
      "train_score: 0.8413894504686639\n",
      "test_score: 0.7965821389195149\n",
      "AUC: 0.7902051641664719\n"
     ]
    }
   ],
   "source": [
    "from sklearn.metrics import *\n",
    "pred = lgb_model.predict(test_data)\n",
    "\n",
    "print('train_score:',accuracy_score(train_target,np.where(lgb_model.predict(train_data)>a,1,0)))\n",
    "print('test_score:',accuracy_score(test_target,np.where(pred>a,1,0)))\n",
    "print('AUC:',roc_auc_score(test_target, pred))"
   ]
  },
  {
   "cell_type": "markdown",
   "metadata": {},
   "source": [
    "## Catboost\n",
    " - unbiased boostion with categorical features\n",
    " - 잔차 추정의 분산을 최소로 하면서 bias를 피하는 boostiong기법\n",
    " - 관측치를 포함하지 않고 그 관측치에 대한 unbiased residual을 구하는 기법\n",
    " - categorical features가 많을 때 효과적이다.\n",
    " - categorical features를 one-hot encoding이 아니라 수치형으로 변환하는 방법 제안\n",
    "   - mean-encoding이 아니라 Ordered Target Encoding을 시행한다.(오버피팅을 방지)\n",
    " - XGboost와 같이 Level wise tree를 기반으로 한다.\n",
    " - 하이퍼 파라미터튜니에 부담이 없다. (catboost 내부에 overfitting을 방지하는 알고리즘이 많으므로)\n",
    " - Categorical Feauture Combinations 알고리즘이 내장되어 있다."
   ]
  },
  {
   "cell_type": "markdown",
   "metadata": {},
   "source": [
    "### Catboost params\n",
    " - loss_function\n",
    " - iterations\n",
    " - bootstrap_type\n",
    " - max_depth\n",
    " - loss_function, objective"
   ]
  },
  {
   "cell_type": "markdown",
   "metadata": {},
   "source": [
    "### Catboost example"
   ]
  },
  {
   "cell_type": "code",
   "execution_count": 21,
   "metadata": {},
   "outputs": [],
   "source": [
    "import catboost as cb"
   ]
  },
  {
   "cell_type": "code",
   "execution_count": 22,
   "metadata": {
    "scrolled": true
   },
   "outputs": [
    {
     "name": "stdout",
     "output_type": "stream",
     "text": [
      "0:\tlearn: 0.7906635\ttotal: 712ms\tremaining: 1m 10s\n",
      "20:\tlearn: 0.8149237\ttotal: 11.6s\tremaining: 43.6s\n",
      "40:\tlearn: 0.8250322\ttotal: 21.7s\tremaining: 31.3s\n",
      "60:\tlearn: 0.8364271\ttotal: 32.4s\tremaining: 20.7s\n",
      "80:\tlearn: 0.8446977\ttotal: 43.1s\tremaining: 10.1s\n",
      "99:\tlearn: 0.8500276\ttotal: 52.8s\tremaining: 0us\n"
     ]
    }
   ],
   "source": [
    "cb_dtrain = cb.Pool(data = train_data, label = train_target)\n",
    "cb_param = {'max_depth': 12,\n",
    "            'eval_metric': 'Accuracy', # 평가 척도\n",
    "            'loss_function': 'MultiClass',\n",
    "            'learning_rate': 0.03,\n",
    "            'n_estimators': 100}\n",
    "cb_model = cb.train(pool = cb_dtrain, params = cb_param,verbose=20)"
   ]
  },
  {
   "cell_type": "code",
   "execution_count": 23,
   "metadata": {},
   "outputs": [
    {
     "name": "stdout",
     "output_type": "stream",
     "text": [
      "train_score: 0.8500275684616798\n",
      "test_score: 0.802646085997795\n",
      "AUC: 0.783493672742606\n"
     ]
    }
   ],
   "source": [
    "from sklearn.metrics import *\n",
    "pred = cb_model.predict(test_data)\n",
    "\n",
    "print('train_score:',accuracy_score(train_target,np.argmax(cb_model.predict(train_data),axis =1)))\n",
    "print('test_score:',accuracy_score(test_target,np.argmax(pred,axis=1)))\n",
    "print('AUC:',roc_auc_score(test_target, pred[:,1]))"
   ]
  },
  {
   "cell_type": "markdown",
   "metadata": {},
   "source": [
    "# Stacking\n",
    " - API가 따로 있지는 않다.\n",
    " - 여러 모델들을 학습시킨후 나온 predict값을 train_data로사용"
   ]
  },
  {
   "cell_type": "markdown",
   "metadata": {},
   "source": [
    "## Stracking example"
   ]
  },
  {
   "cell_type": "code",
   "execution_count": 32,
   "metadata": {},
   "outputs": [
    {
     "name": "stdout",
     "output_type": "stream",
     "text": [
      "[[-0.52840208  0.52840208]\n",
      " [ 0.56663001 -0.56663001]\n",
      " [ 0.60467082 -0.60467082]\n",
      " ...\n",
      " [ 0.95338046 -0.95338046]\n",
      " [ 0.20212411 -0.20212411]\n",
      " [ 0.15619948 -0.15619948]]\n",
      "[0.85136198 0.22936472 0.17357736 ... 0.0604444  0.41626854 0.43768158]\n",
      "[0.8814361  0.18251161 0.19391662 ... 0.05549373 0.42546234 0.49011493]\n"
     ]
    }
   ],
   "source": [
    "xgb_pred = xgb_model.predict(xgb_dtest)\n",
    "lgb_pred = lgb_model.predict(test_data)\n",
    "cb_pred = cb_model.predict(test_data)\n",
    "print(cb_pred)\n",
    "print(lgb_pred)\n",
    "print(xgb_pred)"
   ]
  },
  {
   "cell_type": "code",
   "execution_count": 33,
   "metadata": {},
   "outputs": [
    {
     "data": {
      "text/plain": [
       "(3, 1814)"
      ]
     },
     "execution_count": 33,
     "metadata": {},
     "output_type": "execute_result"
    }
   ],
   "source": [
    "new_data = np.array([np.argmax(cb_pred,axis =1),\n",
    "                     np.where(lgb_pred>a,1,0),\n",
    "                     np.where(xgb_pred>a,1,0)])\n",
    "new_data.shape"
   ]
  },
  {
   "cell_type": "code",
   "execution_count": 39,
   "metadata": {},
   "outputs": [
    {
     "data": {
      "text/plain": [
       "array([1, 0, 0, ..., 0, 0, 0], dtype=int64)"
      ]
     },
     "execution_count": 39,
     "metadata": {},
     "output_type": "execute_result"
    }
   ],
   "source": [
    "np.argmax(cb_pred,axis =1)"
   ]
  },
  {
   "cell_type": "code",
   "execution_count": 34,
   "metadata": {},
   "outputs": [
    {
     "data": {
      "text/plain": [
       "(1814, 3)"
      ]
     },
     "execution_count": 34,
     "metadata": {},
     "output_type": "execute_result"
    }
   ],
   "source": [
    "new_data = np.transpose(new_data)\n",
    "new_data.shape"
   ]
  },
  {
   "cell_type": "code",
   "execution_count": 41,
   "metadata": {},
   "outputs": [],
   "source": [
    "new_data_ = np.array([cb_pred[:,1],lgb_pred,xgb_pred])\n",
    "new_data_ = np.transpose(new_data_)"
   ]
  },
  {
   "cell_type": "code",
   "execution_count": 45,
   "metadata": {
    "scrolled": true
   },
   "outputs": [
    {
     "name": "stdout",
     "output_type": "stream",
     "text": [
      "[LightGBM] [Info] Number of positive: 497, number of negative: 1317\n",
      "[LightGBM] [Warning] Auto-choosing col-wise multi-threading, the overhead of testing was 0.000269 seconds.\n",
      "You can set `force_col_wise=true` to remove the overhead.\n",
      "[LightGBM] [Info] Total Bins 765\n",
      "[LightGBM] [Info] Number of data points in the train set: 1814, number of used features: 3\n",
      "[LightGBM] [Info] [binary:BoostFromScore]: pavg=0.273980 -> initscore=-0.974522\n",
      "[LightGBM] [Info] Start training from score -0.974522\n",
      "test_score: 0.8461962513781698\n",
      "AUC: 0.8908019109340936\n"
     ]
    },
    {
     "name": "stderr",
     "output_type": "stream",
     "text": [
      "C:\\anan\\lib\\site-packages\\lightgbm\\engine.py:151: UserWarning: Found `num_boost_round` in params. Will use it instead of argument\n",
      "  warnings.warn(\"Found `{}` in params. Will use it instead of argument\".format(alias))\n"
     ]
    }
   ],
   "source": [
    "lgb_dtrain_st_ = lgb.Dataset(data= new_data_,label=test_target)\n",
    "lgb_st_ = lgb.train(params=lgb_param,train_set = lgb_dtrain_st_)\n",
    "lgb_pred_st_ = lgb_st_.predict(new_data_)\n",
    "\n",
    "\n",
    "print('test_score:',accuracy_score(test_target,np.where(lgb_pred_st_>0.4,1,0)))\n",
    "print('AUC:',roc_auc_score(test_target, lgb_pred_st_))"
   ]
  },
  {
   "cell_type": "code",
   "execution_count": 46,
   "metadata": {},
   "outputs": [
    {
     "name": "stdout",
     "output_type": "stream",
     "text": [
      "0:\tlearn: 0.8059537\ttotal: 224ms\tremaining: 22.2s\n",
      "20:\tlearn: 0.8070562\ttotal: 4.38s\tremaining: 16.5s\n",
      "40:\tlearn: 0.8087100\ttotal: 8.58s\tremaining: 12.3s\n",
      "60:\tlearn: 0.8087100\ttotal: 12.6s\tremaining: 8.09s\n",
      "80:\tlearn: 0.8125689\ttotal: 16.8s\tremaining: 3.94s\n",
      "99:\tlearn: 0.8120176\ttotal: 20.8s\tremaining: 0us\n",
      "test_score: 0.8120176405733186\n",
      "AUC: 0.8394306614172506\n"
     ]
    }
   ],
   "source": [
    "cb_dtrain_st = cb.Pool(data = new_data_, label = test_target)\n",
    "cb_model_st = cb.train(pool = cb_dtrain_st, params = cb_param,verbose=20)\n",
    "cb_pred_st = cb_model_st.predict(new_data_)\n",
    "\n",
    "print('test_score:',accuracy_score(test_target,np.argmax(cb_pred_st,axis=1)))\n",
    "print('AUC:',roc_auc_score(test_target, cb_pred_st[:,1]))"
   ]
  },
  {
   "cell_type": "code",
   "execution_count": null,
   "metadata": {},
   "outputs": [],
   "source": []
  }
 ],
 "metadata": {
  "kernelspec": {
   "display_name": "Python 3",
   "language": "python",
   "name": "python3"
  },
  "language_info": {
   "codemirror_mode": {
    "name": "ipython",
    "version": 3
   },
   "file_extension": ".py",
   "mimetype": "text/x-python",
   "name": "python",
   "nbconvert_exporter": "python",
   "pygments_lexer": "ipython3",
   "version": "3.8.3"
  },
  "toc": {
   "base_numbering": 1,
   "nav_menu": {},
   "number_sections": true,
   "sideBar": true,
   "skip_h1_title": false,
   "title_cell": "Table of Contents",
   "title_sidebar": "Contents",
   "toc_cell": false,
   "toc_position": {},
   "toc_section_display": true,
   "toc_window_display": false
  }
 },
 "nbformat": 4,
 "nbformat_minor": 4
}
